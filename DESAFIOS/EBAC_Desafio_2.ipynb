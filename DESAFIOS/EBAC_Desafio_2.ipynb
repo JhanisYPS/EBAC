{
 "cells": [
  {
   "cell_type": "markdown",
   "metadata": {},
   "source": [
    "## Desafio EBAC - Módulo 7\n",
    "---\n",
    "Desenvolva um gerador de tabuada, capaz de gerar a tabuada de qualquer número inteiro entre 1 a 10. O usuário deve informar de qual número ele deseja ver a tabuada.\n",
    "\n",
    "Lembre-se de que você já conhece o nível intermediário da linguagem de programação Python, além de conhecer como automatizar dados por meio da programação funcional e programação orientada a objetos."
   ]
  },
  {
   "cell_type": "markdown",
   "metadata": {},
   "source": [
    "### Estruturando Raciocínio\n",
    "---\n",
    "\n",
    "Entrada: \n",
    "- Número inteiro 1-10\n",
    "\n",
    "Saída:\n",
    "- Tabuada de 1 a 10\n",
    "- (Extra) Arquivo com a Tabuada"
   ]
  },
  {
   "cell_type": "code",
   "execution_count": null,
   "metadata": {},
   "outputs": [],
   "source": []
  }
 ],
 "metadata": {
  "language_info": {
   "name": "python"
  }
 },
 "nbformat": 4,
 "nbformat_minor": 2
}
