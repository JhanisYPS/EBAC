{
 "cells": [
  {
   "cell_type": "markdown",
   "metadata": {},
   "source": [
    "## Desafio EBAC - Módulo 7\n",
    "---\n",
    "Desenvolva um gerador de tabuada, capaz de gerar a tabuada de qualquer número inteiro entre 1 a 10. O usuário deve informar de qual número ele deseja ver a tabuada.\n",
    "\n",
    "Lembre-se de que você já conhece o nível intermediário da linguagem de programação Python, além de conhecer como automatizar dados por meio da programação funcional e programação orientada a objetos."
   ]
  },
  {
   "cell_type": "markdown",
   "metadata": {},
   "source": [
    "### Estruturando Raciocínio\n",
    "---\n",
    "\n",
    "Entrada: \n",
    "- Número inteiro 1-10\n",
    "\n",
    "Saída:\n",
    "- Tabuada de 1 a 10\n",
    "- (Extra) Arquivo com a Tabuada\n",
    "\n",
    "Observações:\n",
    "Meu objetivo ao final do código é utilizar os paradigmas de POO (Programação Orirntada a Objetos) e Programação Funcional."
   ]
  },
  {
   "cell_type": "markdown",
   "metadata": {},
   "source": [
    "#### Parte 1 - Garantir que os dados fornecidos sejam de tipo correto\n",
    "---\n",
    "Eu sempre opto por obrigar um input correto do usuário, por uma questão de assegurar armazenamento e tratamento de dados. A lógica é basicamente a mesma do Desafio 1, a diferença é que além de garantir o tipo de dado, temos que garantir que o valor esteja entre 1 e 10.\n",
    "\n",
    "Criei o looping em uma função para obter um código final mais limpo. Basicamente a estrutura *while* só quebra quando try se concretiza, o primeiro *except* é o erro mais comum desse input *ValueError*, e o segundo *except* trás a mensagem de erro de qualquer outra exceção.\n",
    "\n",
    "A função retorna um valor inteiro de 1-10."
   ]
  },
  {
   "cell_type": "code",
   "execution_count": 1,
   "metadata": {},
   "outputs": [],
   "source": [
    "def user_choose_number () -> int:\n",
    "    while True:\n",
    "        try:\n",
    "            number = int(input(\"Informe um número inteiro de 1-10: \"))\n",
    "            if number >= 1 and number <=10: \n",
    "                break\n",
    "            else:\n",
    "                print(\"Valor inputado fora do range estabelecido, digite um número inteiro no intervalo de 1 até 10\")\n",
    "        except ValueError:\n",
    "            print(\"Verifique se o valor fornecido é um número inteiro\")\n",
    "        except Exception as e:\n",
    "            print(e)\n",
    "    return number"
   ]
  },
  {
   "cell_type": "code",
   "execution_count": 2,
   "metadata": {},
   "outputs": [
    {
     "data": {
      "text/plain": [
       "1"
      ]
     },
     "execution_count": 2,
     "metadata": {},
     "output_type": "execute_result"
    }
   ],
   "source": [
    "user_choose_number()"
   ]
  },
  {
   "cell_type": "markdown",
   "metadata": {},
   "source": [
    "##### Correção EBAC\n",
    "---\n",
    "Depois de submeter meu código aos professores da EBAC, me deram a sugestão de simplificar essa função da seguinte forma:"
   ]
  },
  {
   "cell_type": "code",
   "execution_count": 3,
   "metadata": {},
   "outputs": [],
   "source": [
    "def user_choose_number() -> int:\n",
    "  while True:\n",
    "    try:\n",
    "      number = int(input(\"Informe um número inteiro de 1-10: \"))\n",
    "      if 1 <= number <= 10:\n",
    "        return number\n",
    "      else:\n",
    "        print(\"Valor fora do intervalo. Digite um número entre 1 e 10.\")\n",
    "    except ValueError:\n",
    "      print(\"Entrada inválida. Certifique-se de digitar um número inteiro.\")\n",
    "    except Exception as e:\n",
    "            print(e)"
   ]
  },
  {
   "cell_type": "markdown",
   "metadata": {},
   "source": [
    "Realmente a minha condicional não estava otimizada, e as mensagens de feedback não estavam claras. Não havia a necessidade de um *break* se houvesse a utilização de um *return* para sair do looping da função.\n",
    "A única coisa que eu optei manter, mesmo depois da correção foi o:x\n",
    "\n",
    "``except Exception as e:\n",
    "            print(e)``\n",
    "            \n",
    "É extremamente improvável que haja outro tipo de erro, além do *ValueError*, mas vai que acontece?"
   ]
  },
  {
   "cell_type": "markdown",
   "metadata": {},
   "source": [
    "#### Parte 2 - Calcular a Tabuada\n",
    "---\n",
    "Para otimizar os calculos, estou utilizando programação funcional com a função *lambda*. Como meu conjunto de dados é pequeno, não faz muita diferença no desempenho, mas deixa o código mais limpo e sofisticado.\n",
    "\n",
    "Pensando no avanço do código e como quero o output final, decidi que essa função deve me retornar uma lista de dicionários com 3 colunas:\n",
    "- Multiplicando (*Multiplicand*)\n",
    "- Multiplicador (*Multiplier*)\n",
    "- Resultado (*Result*)\n",
    "\n",
    "Assim, ao final eu creio que posso trabalhar melhor no output do arquivo."
   ]
  },
  {
   "cell_type": "code",
   "execution_count": 4,
   "metadata": {},
   "outputs": [],
   "source": [
    "def calc_multiplication_table(multiplicand:int) -> list:\n",
    "    #Criando lista de 1-10\n",
    "    multipliers = [multiplier for multiplier in range(1,11)]\n",
    "    # 'x' representa cada valor da lista multipliers, onde cada valor multiplica o 'multiplicand'\n",
    "    # results = map(lambda x: x*multiplicand,multipliers)\n",
    "    results = [multiplier*multiplicand for multiplier in multipliers]\n",
    "    multiplication_table = [dict(Multiplicand= multiplicand, Multiplier= multiplier, Result= result) for (multiplier, result) in zip(multipliers, results)]\n",
    "    return multiplication_table\n"
   ]
  },
  {
   "cell_type": "code",
   "execution_count": 5,
   "metadata": {},
   "outputs": [
    {
     "data": {
      "text/plain": [
       "[{'Multiplicand': 2, 'Multiplier': 1, 'Result': 2},\n",
       " {'Multiplicand': 2, 'Multiplier': 2, 'Result': 4},\n",
       " {'Multiplicand': 2, 'Multiplier': 3, 'Result': 6},\n",
       " {'Multiplicand': 2, 'Multiplier': 4, 'Result': 8},\n",
       " {'Multiplicand': 2, 'Multiplier': 5, 'Result': 10},\n",
       " {'Multiplicand': 2, 'Multiplier': 6, 'Result': 12},\n",
       " {'Multiplicand': 2, 'Multiplier': 7, 'Result': 14},\n",
       " {'Multiplicand': 2, 'Multiplier': 8, 'Result': 16},\n",
       " {'Multiplicand': 2, 'Multiplier': 9, 'Result': 18},\n",
       " {'Multiplicand': 2, 'Multiplier': 10, 'Result': 20}]"
      ]
     },
     "execution_count": 5,
     "metadata": {},
     "output_type": "execute_result"
    }
   ],
   "source": [
    "calc_multiplication_table(2)"
   ]
  },
  {
   "cell_type": "markdown",
   "metadata": {},
   "source": [
    "##### Artifícios Utilizados\n",
    "---\n",
    "Estou utilizando compreensão de listas, algo forte na linguagem python para deixar meu código mais enxuto e legível. O lambda só compensa quando estou fazendo calculos simultâneos, para criação de uma lista simples, na minha visão, não vale a pena utilizar-lo."
   ]
  },
  {
   "cell_type": "code",
   "execution_count": 6,
   "metadata": {},
   "outputs": [
    {
     "name": "stdout",
     "output_type": "stream",
     "text": [
      "[1, 2, 3, 4, 5, 6, 7, 8, 9, 10]\n",
      "[2, 4, 6, 8, 10, 12, 14, 16, 18, 20]\n",
      "[{'Multiplicand': 2, 'Multiplier': 1, 'Result': 2}, {'Multiplicand': 2, 'Multiplier': 2, 'Result': 4}, {'Multiplicand': 2, 'Multiplier': 3, 'Result': 6}, {'Multiplicand': 2, 'Multiplier': 4, 'Result': 8}, {'Multiplicand': 2, 'Multiplier': 5, 'Result': 10}, {'Multiplicand': 2, 'Multiplier': 6, 'Result': 12}, {'Multiplicand': 2, 'Multiplier': 7, 'Result': 14}, {'Multiplicand': 2, 'Multiplier': 8, 'Result': 16}, {'Multiplicand': 2, 'Multiplier': 9, 'Result': 18}, {'Multiplicand': 2, 'Multiplier': 10, 'Result': 20}]\n",
      "[1, 2, 3, 4, 5, 6, 7, 8, 9, 10]\n",
      "[2, 4, 6, 8, 10, 12, 14, 16, 18, 20]\n",
      "[{'Multiplicand': 2, 'Multiplier': 1, 'Result': 2}, {'Multiplicand': 2, 'Multiplier': 2, 'Result': 4}, {'Multiplicand': 2, 'Multiplier': 3, 'Result': 6}, {'Multiplicand': 2, 'Multiplier': 4, 'Result': 8}, {'Multiplicand': 2, 'Multiplier': 5, 'Result': 10}, {'Multiplicand': 2, 'Multiplier': 6, 'Result': 12}, {'Multiplicand': 2, 'Multiplier': 7, 'Result': 14}, {'Multiplicand': 2, 'Multiplier': 8, 'Result': 16}, {'Multiplicand': 2, 'Multiplier': 9, 'Result': 18}, {'Multiplicand': 2, 'Multiplier': 10, 'Result': 20}]\n",
      "[1, 2, 3, 4, 5, 6, 7, 8, 9, 10]\n",
      "[1, 4, 9, 16, 25, 36, 49, 64, 81, 100]\n",
      "[{'Multiplicand': 2, 'Multiplier': 1, 'Result': 1}, {'Multiplicand': 2, 'Multiplier': 2, 'Result': 4}, {'Multiplicand': 2, 'Multiplier': 3, 'Result': 9}, {'Multiplicand': 2, 'Multiplier': 4, 'Result': 16}, {'Multiplicand': 2, 'Multiplier': 5, 'Result': 25}, {'Multiplicand': 2, 'Multiplier': 6, 'Result': 36}, {'Multiplicand': 2, 'Multiplier': 7, 'Result': 49}, {'Multiplicand': 2, 'Multiplier': 8, 'Result': 64}, {'Multiplicand': 2, 'Multiplier': 9, 'Result': 81}, {'Multiplicand': 2, 'Multiplier': 10, 'Result': 100}]\n"
     ]
    }
   ],
   "source": [
    "multiplicand = 2\n",
    "#Compreensão de listas\n",
    "multipliers = [multiplier for multiplier in range(1,11)]\n",
    "results = [multiplier*multiplicand for multiplier in multipliers]\n",
    "multiplication_table = [dict(Multiplicand= multiplicand,Multiplier= multiplier,Result= result) for (multiplier, result) in zip(multipliers, results)]\n",
    "print(multipliers)\n",
    "print(results)\n",
    "print(multiplication_table)\n",
    "\n",
    "#'map' com 'lambda'\n",
    "multipliers = list(map(lambda x: x, range(1,11)))\n",
    "results = list(map(lambda x: x*multiplicand,multipliers))\n",
    "multiplication_table = list(map(lambda x:dict(Multiplicand= multiplicand,Multiplier= x[0],Result= x[1]), zip(multipliers, results)))\n",
    "print(multipliers)\n",
    "print(results)\n",
    "print(multiplication_table)\n",
    "\n",
    "#For tradicional\n",
    "multipliers = []\n",
    "for multiplier in range(1,11):\n",
    "    multipliers.append(multiplier)\n",
    "\n",
    "results = []\n",
    "for multiplier in multipliers:\n",
    "    results.append(multiplier*multiplier)\n",
    "\n",
    "multiplication_table = []\n",
    "for (multiplier, result) in zip(multipliers, results):\n",
    "    multiplication_table.append(dict(Multiplicand= multiplicand,Multiplier= multiplier,Result= result))\n",
    "print(multipliers)\n",
    "print(results)\n",
    "print(multiplication_table)\n"
   ]
  },
  {
   "cell_type": "markdown",
   "metadata": {},
   "source": [
    "##### Teste Prático de Conceito\n",
    "---\n",
    "Estudando de forma independente, descobri uma forma de verificar o tempo de execução de cada trecho de código. Assim tomei a minhas decisões considerando qual abordagem me retorna o resultado em menos tempo."
   ]
  },
  {
   "cell_type": "code",
   "execution_count": 7,
   "metadata": {},
   "outputs": [
    {
     "name": "stdout",
     "output_type": "stream",
     "text": [
      "List comprehension time: 0.2937958000002254\n",
      "Map with lambda time: 0.32120450000002165\n",
      "For approach time: 0.32120450000002165\n"
     ]
    }
   ],
   "source": [
    "import timeit\n",
    "\n",
    "# Setup code\n",
    "setup_code = '''\n",
    "multiplicand = 2\n",
    "'''\n",
    "\n",
    "# List comprehension code\n",
    "list_comprehension_code = '''\n",
    "multipliers = [multiplier for multiplier in range(1, 11)]\n",
    "results = [multiplier * multiplicand for multiplier in multipliers]\n",
    "multiplication_table = [dict(Multiplicand=multiplicand, Multiplier=multiplier, Result=result) for (multiplier, result) in zip(multipliers, results)]\n",
    "'''\n",
    "\n",
    "# Map with lambda code\n",
    "map_lambda_code = '''\n",
    "multipliers = list(map(lambda x: x, range(1,11)))\n",
    "results = list(map(lambda x: x*multiplicand,multipliers))\n",
    "multiplication_table = list(map(lambda x:dict(Multiplicand= multiplicand,Multiplier= x[0],Result= x[1]), zip(multipliers, results)))\n",
    "'''\n",
    "# For traditional\n",
    "for_code = '''\n",
    "multipliers = []\n",
    "for multiplier in range(1,11):\n",
    "    multipliers.append(multiplier)\n",
    "\n",
    "results = []\n",
    "for multiplier in multipliers:\n",
    "    results.append(multiplier*multiplier)\n",
    "\n",
    "multiplication_table = []\n",
    "for (multiplier, result) in zip(multipliers, results):\n",
    "    multiplication_table.append(dict(Multiplicand= multiplicand,Multiplier= multiplier,Result= result))\n",
    "'''\n",
    "# Timing the list comprehension approach\n",
    "list_comprehension_time = timeit.timeit(list_comprehension_code, setup=setup_code, number=100000)\n",
    "\n",
    "# Timing the map with lambda approach\n",
    "map_lambda_time = timeit.timeit(map_lambda_code, setup=setup_code, number=100000)\n",
    "\n",
    "#Timing the for approach\n",
    "for_time = timeit.timeit(for_code, setup=setup_code, number=100000)\n",
    "\n",
    "print(f\"List comprehension time: {list_comprehension_time}\")\n",
    "print(f\"Map with lambda time: {map_lambda_time}\")\n",
    "print(f\"For approach time: {map_lambda_time}\")\n"
   ]
  },
  {
   "cell_type": "markdown",
   "metadata": {},
   "source": [
    "#### Parte 3 - Criar Arquivo\n",
    "---\n",
    "A função de criar arquivo é um extra que quis colocar no desafio para treinar a utilização de conceitos que aprendi no curso. De início pensei em criar um único arquivo *.txt* formatado, onde cada linha seria:\n",
    "- 2 x 1 = 2\n",
    "\n",
    "Contudo, quis incrementar mais um pouco e fazer dois tipos de saída de arquivo, o *.txt* e o *.csv*."
   ]
  },
  {
   "cell_type": "code",
   "execution_count": 8,
   "metadata": {},
   "outputs": [],
   "source": [
    "def create_csv():\n",
    "    #Chamando função para criação da tabela da tabuada\n",
    "    table = calc_multiplication_table(2)\n",
    "    with open(\"multiplication_table.csv\",\"w\",encoding=\"utf-8\") as f:\n",
    "        #Pegando apenas o cabeçalho do dicionário\n",
    "        f.write(','.join(table[0].keys()))\n",
    "        #Pulando para próxima linha\n",
    "        f.write('\\n')\n",
    "        #For que transforma cada dicionário da lista em uma linha\n",
    "        for row in table:\n",
    "            # Separando por ',' pega cada valor do dicionário, para isso se utiliza values(), e temos q transformar o int para str na hora de escrever um arquivo\n",
    "            f.write(','.join(str(x) for x in row.values()))\n",
    "            #Pulando para próxima linha\n",
    "            f.write('\\n')\n",
    "    return f # retorna o arquivo"
   ]
  },
  {
   "cell_type": "code",
   "execution_count": 9,
   "metadata": {},
   "outputs": [
    {
     "data": {
      "text/plain": [
       "<_io.TextIOWrapper name='multiplication_table.csv' mode='w' encoding='utf-8'>"
      ]
     },
     "execution_count": 9,
     "metadata": {},
     "output_type": "execute_result"
    }
   ],
   "source": [
    "create_csv()"
   ]
  },
  {
   "cell_type": "code",
   "execution_count": 10,
   "metadata": {},
   "outputs": [],
   "source": [
    "def create_txt():\n",
    "    #Chamando função para criação da tabela da tabuada\n",
    "    table = calc_multiplication_table(2)\n",
    "    with open(\"multiplication_table.txt\",\"w\",encoding=\"utf-8\") as f:\n",
    "        f.write('Multiplication Table {}'.format(table[0].get(\"Multiplicand\")))\n",
    "        f.write('\\n')\n",
    "        for row in table:\n",
    "            f.write('{} x {} = {}'.format(row.get(\"Multiplicand\"),row.get(\"Multiplier\"),row.get(\"Result\")))\n",
    "            #Pulando para próxima linha\n",
    "            f.write('\\n')\n",
    "    return f"
   ]
  },
  {
   "cell_type": "code",
   "execution_count": 11,
   "metadata": {},
   "outputs": [
    {
     "data": {
      "text/plain": [
       "<_io.TextIOWrapper name='multiplication_table.txt' mode='w' encoding='utf-8'>"
      ]
     },
     "execution_count": 11,
     "metadata": {},
     "output_type": "execute_result"
    }
   ],
   "source": [
    "create_txt()"
   ]
  },
  {
   "cell_type": "markdown",
   "metadata": {},
   "source": [
    "#### Parte 4 - Estruturar a Classe *Multiplication_Table*\n",
    "---\n",
    "\n",
    "Como é possível notar nas funções de criação de arquivos, o uso de uma função criada anteriormente, dentro de outra função dá indícios de que seria interessante ter uma classe. Cada função utiliza atributos que estão presentes em outras funções do código, portanto, vou juntar tudo em uma Classe chamada *Multiplication_Table*."
   ]
  },
  {
   "cell_type": "code",
   "execution_count": 12,
   "metadata": {},
   "outputs": [],
   "source": [
    "class MultiplicationTable:\n",
    "    def __init__(self, multiplicand: int = None) -> None:\n",
    "        self.__multiplicand = multiplicand if multiplicand else self.__user_choose_number()\n",
    "        self.multiplication_table = self.calc_multiplication_table()\n",
    "\n",
    "    def __user_choose_number(self) -> int:\n",
    "        while True:\n",
    "            try:\n",
    "                number = int(input(\"Informe um número inteiro de 1-10: \"))\n",
    "                if 1 <= number <= 10:\n",
    "                    return number\n",
    "                else:\n",
    "                    print(\"Valor fora do intervalo. Digite um número entre 1 e 10.\")\n",
    "            except ValueError:\n",
    "                print(\"Entrada inválida. Certifique-se de digitar um número inteiro.\")\n",
    "            except Exception as e:\n",
    "                print(e)\n",
    "\n",
    "    def calc_multiplication_table(self) -> list:\n",
    "        \"\"\"Calcula a tabela de multiplicação para o multiplicador fornecido.\"\"\"\n",
    "        multipliers = list(range(1, 11))\n",
    "        results = [multiplier * self.__multiplicand for multiplier in multipliers]\n",
    "        return [\n",
    "            {\"Multiplicand\": self.__multiplicand, \"Multiplier\": multiplier, \"Result\": result}\n",
    "            for multiplier, result in zip(multipliers, results)\n",
    "        ]\n",
    "\n",
    "    def create_csv(self):\n",
    "        \"\"\"Cria um arquivo CSV com a tabela de multiplicação.\"\"\"\n",
    "        with open(\"multiplication_table_{}.csv\".format(self.__multiplicand), \"w\", encoding=\"utf-8\") as f:\n",
    "            # Cabeçalho\n",
    "            f.write(','.join(self.multiplication_table[0].keys()) + '\\n')\n",
    "            # Dados\n",
    "            for row in self.multiplication_table:\n",
    "                f.write(','.join(str(x) for x in row.values()) + '\\n')\n",
    "        return f\n",
    "\n",
    "    def create_txt(self):\n",
    "        \"\"\"Cria um arquivo TXT com a tabela de multiplicação.\"\"\"\n",
    "        with open(\"multiplication_table_{}.txt\".format(self.__multiplicand), \"w\", encoding=\"utf-8\") as f:\n",
    "            f.write('Multiplication Table {}\\n'.format(self.__multiplicand))\n",
    "            for row in self.multiplication_table:\n",
    "                f.write('{} x {} = {}\\n'.format(row[\"Multiplicand\"], row[\"Multiplier\"], row[\"Result\"]))\n",
    "        return f\n",
    "\n",
    "def main():\n",
    "    table = MultiplicationTable()\n",
    "    table.create_csv()\n",
    "    table.create_txt()\n",
    "\n",
    "if __name__ == \"__main__\":\n",
    "    main()\n"
   ]
  }
 ],
 "metadata": {
  "kernelspec": {
   "display_name": "Python 3",
   "language": "python",
   "name": "python3"
  },
  "language_info": {
   "codemirror_mode": {
    "name": "ipython",
    "version": 3
   },
   "file_extension": ".py",
   "mimetype": "text/x-python",
   "name": "python",
   "nbconvert_exporter": "python",
   "pygments_lexer": "ipython3",
   "version": "3.12.4"
  }
 },
 "nbformat": 4,
 "nbformat_minor": 2
}
