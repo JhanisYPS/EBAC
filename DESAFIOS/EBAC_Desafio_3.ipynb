{
 "cells": [
  {
   "cell_type": "markdown",
   "metadata": {},
   "source": [
    "## Desafio EBAC - Módulo 9\n",
    "\n",
    "Crie um pacote em Python que implemente uma calculadora com as operações básicas (soma, subtração, multiplicação e divisão) e funções adicionais (potenciação, raiz quadrada e logaritmo) e que possa ser facilmente utilizado em outros projetos.\n",
    "\n",
    "Lembre-se de que você já conhece o nível avançado da linguagem de programação Python e com este desafio, você irá praticar a criação de pacotes em Python, a organização de módulos e scripts em diretórios, além de aprender a tornar o seu código reutilizável e facilmente instalável em outros projetos."
   ]
  },
  {
   "cell_type": "markdown",
   "metadata": {},
   "source": [
    "### Estruturando Raciocínio\n",
    "---\n",
    "\n",
    "A classe principal deve ser calculadora, e os métodos serão as operações. Portanto, teremos uma classe mãe e duas classes filhas:\n",
    "\n",
    "- **Classe Mãe:** \n",
    "    - Operações Básicas\n",
    "        - Soma\n",
    "        - Subtração\n",
    "        - Multiplicação\n",
    "        - Divisão\n",
    "    - **Classes Filhas:**\n",
    "        - Funções Adicionais\n",
    "            - Potenciação\n",
    "            - Raiz\n",
    "            - Logaritmo\n",
    "        - Calculadora\n",
    "\n",
    "\n",
    "Saída:\n",
    "- Interface gráfica de uma calculadora completamente operacional.\n",
    "\n",
    "Observações:\n",
    "Meu objetivo ao final do código é utilizar bem os conceitos de herança dentro do código e evitar ao máximo o uso de bibliotecas que não sejam nativas do Python."
   ]
  },
  {
   "cell_type": "markdown",
   "metadata": {},
   "source": [
    "#### Parte 1 - Operações Básicas\n",
    "---\n",
    "A base de tudo serão os métodos da Classe de Operações básicas. Para criar as funções adicionais será necessário utilizar os métodos criados dentro desse escopo do código.\n"
   ]
  },
  {
   "cell_type": "code",
   "execution_count": 129,
   "metadata": {},
   "outputs": [],
   "source": [
    "def sums(num1:float,num2:float) -> float:\n",
    "    addition = num1 + num2\n",
    "    return addition"
   ]
  },
  {
   "cell_type": "code",
   "execution_count": null,
   "metadata": {},
   "outputs": [],
   "source": [
    "sums(1,2)"
   ]
  },
  {
   "cell_type": "code",
   "execution_count": 131,
   "metadata": {},
   "outputs": [],
   "source": [
    "def sub(minued:float,subtracting:float) -> float:\n",
    "    subtraction = minued - subtracting\n",
    "    return subtraction"
   ]
  },
  {
   "cell_type": "code",
   "execution_count": null,
   "metadata": {},
   "outputs": [],
   "source": [
    "sub(1,2)"
   ]
  },
  {
   "cell_type": "code",
   "execution_count": 133,
   "metadata": {},
   "outputs": [],
   "source": [
    "def mult(num1:float,num2:float) -> float:\n",
    "    multiplication = num1*num2\n",
    "    return multiplication"
   ]
  },
  {
   "cell_type": "code",
   "execution_count": null,
   "metadata": {},
   "outputs": [],
   "source": [
    "mult(1,2)"
   ]
  },
  {
   "cell_type": "code",
   "execution_count": 135,
   "metadata": {},
   "outputs": [],
   "source": [
    "def div(dividend:float,divisor:float) -> float:\n",
    "    quotient = dividend/divisor\n",
    "    return quotient"
   ]
  },
  {
   "cell_type": "code",
   "execution_count": null,
   "metadata": {},
   "outputs": [],
   "source": [
    "div(1,2)"
   ]
  },
  {
   "cell_type": "markdown",
   "metadata": {},
   "source": [
    "#### Parte 2 - Funções Adicionais\n",
    "---\n",
    "Agora que toda a parte de operações básicas está construida, vamos implementar as funções adicionais.\n"
   ]
  },
  {
   "cell_type": "code",
   "execution_count": 137,
   "metadata": {},
   "outputs": [],
   "source": [
    "def power(base:float,Exponent:float) -> float:\n",
    "    value_of_power = base**Exponent\n",
    "    return value_of_power"
   ]
  },
  {
   "cell_type": "code",
   "execution_count": null,
   "metadata": {},
   "outputs": [],
   "source": [
    "power(1,2)"
   ]
  },
  {
   "cell_type": "code",
   "execution_count": 139,
   "metadata": {},
   "outputs": [],
   "source": [
    "def root(radicand:float, index:float) ->float:\n",
    "    value_of_root = power(radicand,1/index)\n",
    "    return value_of_root"
   ]
  },
  {
   "cell_type": "code",
   "execution_count": null,
   "metadata": {},
   "outputs": [],
   "source": [
    "root(1,2)"
   ]
  },
  {
   "cell_type": "code",
   "execution_count": null,
   "metadata": {},
   "outputs": [],
   "source": [
    "root(25,2)"
   ]
  },
  {
   "cell_type": "code",
   "execution_count": null,
   "metadata": {},
   "outputs": [],
   "source": [
    "root(27,3)"
   ]
  },
  {
   "cell_type": "markdown",
   "metadata": {},
   "source": [
    "##### Logaritmo\n",
    "---\n",
    "Criar uma função que calcule o logaritmo em qualquer base não é uma tarefa fácil. Para chegar a uma solução, utilizei a definição de logaritmo e apliquei um método de tentativa e erro, sem utilizar nenhuma função nativa do Python, como math.log().\n",
    "\n",
    "A função math.log() no Python calcula apenas logaritmos nas bases 10 e \n",
    "𝑒\n",
    "e, mas eu queria algo mais flexível, permitindo o cálculo em qualquer base.\n",
    "\n",
    "A lógica que implementei se baseia em incrementar o valor do expoente em 0.0001 sucessivamente até que a potência atinja o valor correspondente ao logaritmo desejado.\n",
    "\n",
    "Embora esta abordagem não seja a mais otimizada em termos de uso de memória (RAM), é uma solução simples e direta para um problema complexo. Considerei também outras soluções, como criar um algoritmo de fatoração por números primos ou usar o Método de Newton (que seria o mais eficiente do ponto de vista computacional), mas optei por este método porque funciona e produz resultados razoavelmente satisfatórios."
   ]
  },
  {
   "cell_type": "code",
   "execution_count": 143,
   "metadata": {},
   "outputs": [],
   "source": [
    "def log(base:float, argument:float) -> float:\n",
    "    i=0\n",
    "    precision = 0.0001\n",
    "    \n",
    "    while True:\n",
    "        i= i + precision\n",
    "        test = power(base,i)\n",
    "        \n",
    "        if round(abs(test - argument),4) < precision:\n",
    "            logarithm= i\n",
    "            break\n",
    "    return round(logarithm,2)"
   ]
  },
  {
   "cell_type": "code",
   "execution_count": null,
   "metadata": {},
   "outputs": [],
   "source": [
    "log(2,8)"
   ]
  },
  {
   "cell_type": "markdown",
   "metadata": {},
   "source": [
    "##### Feedback Chat GPT\n",
    "---\n",
    "Sua solução tem uma abordagem interessante e válida, principalmente para um exercício de implementação \"manual\" de logaritmo sem utilizar funções nativas do Python. É uma solução simples de tentativa e erro, que pode ser eficaz para fins didáticos ou para cenários que não exigem alta eficiência.\n",
    "\n",
    "##### Pontos fortes:\n",
    "1. **Simplicidade**: Sua lógica é direta e fácil de entender. Ao usar incrementos progressivos para tentar encontrar o valor do logaritmo, você evita complexidades algorítmicas.\n",
    "2. **Objetivo claro**: Você conseguiu atingir o objetivo de não usar funções nativas, o que é um bom exercício para entender como os algoritmos funcionam por trás das funções prontas.\n",
    "3. **Flexibilidade**: O código permite o cálculo de logaritmos em qualquer base, o que vai além da limitação da função nativa `math.log()`.\n",
    "\n",
    "##### Pontos de melhoria:\n",
    "1. **Eficiência**: Embora simples, o método de tentativa e erro não é muito eficiente. Dependendo do valor do argumento e da base, o número de iterações pode se tornar muito grande, consumindo mais tempo e recursos.\n",
    "   \n",
    "   - Por exemplo, se o argumento for muito grande, você vai precisar de muitas iterações para chegar ao valor correto, o que não seria ideal em termos de performance. Usar um método mais eficiente, como o Método de Newton, reduziria o número de iterações significativamente.\n",
    "   \n",
    "2. **Explicação técnica**: Sua explicação poderia ser um pouco mais detalhada em alguns pontos. Quando você menciona \"incremento de 0.0001 ao índice da potência\", poderia esclarecer que este \"índice\" se refere ao valor do logaritmo que está sendo aproximado progressivamente. Além disso, seria bom explicar melhor porque o método de Newton é mais eficiente, mas você optou por não usá-lo neste caso.\n",
    "\n",
    "3. **Tolerância**: O uso de uma precisão fixa de 0.0001 funciona, mas talvez você possa pensar em adaptar a precisão com base no tamanho do argumento, para acelerar o processo em números maiores.\n",
    "\n",
    "##### Considerações finais:\n",
    "Sua solução tem mérito por ser clara e atingir o objetivo de forma simples. Porém, dependendo da aplicação prática, pode ser necessário considerar alternativas mais eficientes. A explicação foi boa, mas poderia ser mais técnica em alguns trechos, especialmente se seu público for mais familiarizado com algoritmos numéricos."
   ]
  },
  {
   "cell_type": "code",
   "execution_count": null,
   "metadata": {},
   "outputs": [],
   "source": [
    "#Solução do GPT\n",
    "\n",
    "def log(base: float, argument: float) -> float:\n",
    "    guess = argument / base  # Começa com uma estimativa inicial\n",
    "    tolerance = 0.00001  # Defina a precisão desejada\n",
    "    max_iter = 100  # Número máximo de iterações para prevenir loops infinitos\n",
    "\n",
    "    for _ in range(max_iter):\n",
    "        # f(x) = base^guess - argument\n",
    "        power_result = power(base, guess)\n",
    "        f_guess = power_result - argument\n",
    "\n",
    "        # Derivada de f(x) = base^x * ln(base)\n",
    "        # Aproximamos ln(base) usando (base - 1) / base como uma simplificação inicial\n",
    "        ln_base = (base - 1) / base  \n",
    "        derivative = power_result * ln_base\n",
    "\n",
    "        # Atualiza o valor de 'guess' usando o Método de Newton\n",
    "        new_guess = guess - f_guess / derivative\n",
    "\n",
    "        # Se a diferença entre as aproximações for pequena o suficiente, paramos\n",
    "        if abs(new_guess - guess) < tolerance:\n",
    "            return round(new_guess, 5)\n",
    "        \n",
    "        guess = new_guess  # Atualiza a estimativa\n",
    "\n",
    "    return round(guess, 5)  # Caso não alcance a precisão após as iterações\n",
    "\n",
    "# Teste o código\n",
    "print(log(2, 8))  # Deve retornar aproximadamente 3"
   ]
  },
  {
   "cell_type": "markdown",
   "metadata": {},
   "source": [
    "##### Eu vs GPT\n",
    "---\n",
    "Eu quis comparar o desempenho da minha abordagem com a do chat GPT para tomar a decisão de qual manter na contrução da classe."
   ]
  },
  {
   "cell_type": "code",
   "execution_count": null,
   "metadata": {},
   "outputs": [],
   "source": [
    "import timeit\n",
    "\n",
    "# Código (com tentativa e erro)\n",
    "user_log_code = '''\n",
    "def power(base: float, exponent: float) -> float:\n",
    "    return base ** exponent\n",
    "\n",
    "def log(base: float, argument: float) -> float:\n",
    "    i = 0\n",
    "    precision = 0.0001\n",
    "    while True:\n",
    "        i += precision\n",
    "        test = power(base, i)\n",
    "        if round(abs(test - argument), 4) < precision:\n",
    "            logarithm = i\n",
    "            break\n",
    "    return round(logarithm, 2)\n",
    "\n",
    "log(2, 8)\n",
    "'''\n",
    "\n",
    "# Código otimizado com Método de Newton\n",
    "optimized_log_code = '''\n",
    "def power(base: float, exponent: float) -> float:\n",
    "    return base ** exponent\n",
    "\n",
    "def log(base: float, argument: float) -> float:\n",
    "    guess = argument / base  # Estimativa inicial\n",
    "    tolerance = 0.00001  # Precisão desejada\n",
    "    max_iter = 100  # Máximo de iterações\n",
    "    \n",
    "    for _ in range(max_iter):\n",
    "        power_result = power(base, guess)\n",
    "        f_guess = power_result - argument\n",
    "        ln_base = (base - 1) / base  # Aproximação de ln(base)\n",
    "        derivative = power_result * ln_base\n",
    "        new_guess = guess - f_guess / derivative\n",
    "        if abs(new_guess - guess) < tolerance:\n",
    "            return round(new_guess, 5)\n",
    "        guess = new_guess\n",
    "    return round(guess, 5)\n",
    "\n",
    "log(2, 8)\n",
    "'''\n",
    "\n",
    "# Medir o tempo de execução do código do usuário\n",
    "user_log_time = timeit.timeit(user_log_code, number=1000)\n",
    "\n",
    "# Medir o tempo de execução do código otimizado\n",
    "optimized_log_time = timeit.timeit(optimized_log_code, number=1000)\n",
    "\n",
    "print(f\"Tempo do meu código: {user_log_time}\")\n",
    "print(f\"Tempo do código GPT: {optimized_log_time}\")\n"
   ]
  },
  {
   "cell_type": "markdown",
   "metadata": {},
   "source": [
    "Por uma diferença gritante de desempenho seguimos com o do GPT que implementou o método ne Newton a partir do código de tentativa e erro que forneci a ele.\n",
    "\n",
    "Eu creio que podemos sim usar a IA como suporte nos nossos projetos, mas sempre mantendo o senso crítico, e lembrando que soluções otimizadas feitas por IA precisam de códigos bases e boa orientação. Meu prompt de comando foi:\n",
    "\n",
    "<code>\n",
    "Fazer uma função que calcule o logaritmo em qualquer base não é fácil, usei a definição de log para poder chegar a uma solução de tentativa e erro sem utilizar nenhuma função nativa do python, como a função  math.log ().\n",
    "\n",
    "A função  '''math.log ()''' só calcula log na base 10 e eu queria mais que isso.\n",
    "\n",
    "Minha lógica se baseia no incremento de 0.0001 ao indice da potencia infinitas vezes até chegarmos ao valor de log correspondente.\n",
    "\n",
    "É a solução menos otimizada em termos de RAM, mas é o raciocinio mais simples e curto para um problema complexo, considerei resolver criando um código de fatoração por números primos, e também pelo método de Newton (Em questão de calculo esse é o melhor), contudo a minha solução funciona e é razoavelmente satisfatória.\n",
    "\n",
    "Solução:\n",
    "def log(base:float, argument:float) -> float:\n",
    "    i=0\n",
    "    precision = 0.0001\n",
    "    \n",
    "    while True:\n",
    "        i= i + precision\n",
    "        test = power(base,i)\n",
    "        \n",
    "        if round(abs(test - argument),4) < precision:\n",
    "            logarithm= i\n",
    "            break\n",
    "    return round(logarithm,2)\n",
    "</code>"
   ]
  },
  {
   "cell_type": "markdown",
   "metadata": {},
   "source": [
    "#### Parte 3 - Criando os Pacotes Py\n",
    "---\n",
    "Agora que todas as operações estão criadas, vamos criar as classes principais e transformar elas em pacotes.\n"
   ]
  },
  {
   "cell_type": "code",
   "execution_count": 147,
   "metadata": {},
   "outputs": [],
   "source": [
    "class BasicOperations:\n",
    "    def __init__(self, input: float = 0) -> None:\n",
    "        self.input = input\n",
    "        \n",
    "    def sums(self, value:float) -> float:\n",
    "        addition = self.input + value\n",
    "        return addition\n",
    "\n",
    "    def sub(self, subtracting:float) -> float:\n",
    "        minued = self.input\n",
    "        subtraction = minued - subtracting\n",
    "        return subtraction\n",
    "\n",
    "    def mult(self, value:float) -> float:\n",
    "        multiplication = self.input*value\n",
    "        return multiplication\n",
    "\n",
    "    def div(self, divisor:float) -> float:\n",
    "        dividend = self.input\n",
    "        try:\n",
    "            quotient = dividend/divisor\n",
    "        except ZeroDivisionError:\n",
    "            quotient = None\n",
    "        return quotient\n"
   ]
  },
  {
   "cell_type": "markdown",
   "metadata": {},
   "source": [
    "No código acima resolvi deixar essa classe preparada para fazer parte da calculadora, porém continuar util em outras abordagens."
   ]
  },
  {
   "cell_type": "code",
   "execution_count": 150,
   "metadata": {},
   "outputs": [],
   "source": [
    "class ScientificOperations:\n",
    "    def __init__(self) -> None:\n",
    "        pass\n",
    "        \n",
    "    def power(self, base: float, exponent: float) -> float:\n",
    "        return base ** exponent\n",
    "    \n",
    "    def square(self, radicand: float, index: float) -> float:\n",
    "        return self.power(radicand, 1 / index)\n",
    "    \n",
    "    def log(self, base: float, argument: float) -> float:\n",
    "        # Verificações para valores inválidos\n",
    "        if base <= 0 or base == 1 or argument <= 0:\n",
    "            return None  # Retorna None se a base ou o argumento não são válidos\n",
    "\n",
    "        guess = argument / base  # Começa com uma estimativa inicial\n",
    "        tolerance = 0.00001  # Defina a precisão desejada\n",
    "\n",
    "        while True:\n",
    "            # f(x) = base^guess - argument\n",
    "            power_result = self.power(base, guess)\n",
    "            f_guess = power_result - argument\n",
    "\n",
    "            # Derivada de f(x) = base^x * ln(base)\n",
    "            # Aproximamos ln(base) usando (base - 1) / base como uma simplificação inicial\n",
    "            ln_base = (base - 1) / base  \n",
    "            derivative = power_result * ln_base\n",
    "\n",
    "            # Atualiza o valor de 'guess' usando o Método de Newton\n",
    "            new_guess = guess - f_guess / derivative\n",
    "\n",
    "            # Se a diferença entre as aproximações for pequena o suficiente, paramos\n",
    "            if abs(new_guess - guess) < tolerance:\n",
    "                return round(new_guess, 5)\n",
    "            \n",
    "            guess = new_guess  # Atualiza a estimativa\n"
   ]
  },
  {
   "cell_type": "markdown",
   "metadata": {},
   "source": [
    "A única alteração que fiz no código do GPT foi trocar o for pelo while, pois eu quero poder lidar com o calculo de qualquer grandeza numérica."
   ]
  },
  {
   "cell_type": "markdown",
   "metadata": {},
   "source": [
    "#### Parte 4 - Criando a Classe Principal\n",
    "---\n",
    "Após criar os pacotes, só nos resta criar a classe principal que irá herdar as funcionalidades das classes filhas e incorporar as características de uma calculadora.\n"
   ]
  },
  {
   "cell_type": "code",
   "execution_count": 151,
   "metadata": {},
   "outputs": [],
   "source": [
    "class Calculator(BasicOperations, ScientificOperations):\n",
    "    def __init__(self, input: float = 0) -> None:\n",
    "        BasicOperations.__init__(self, input)\n",
    "        ScientificOperations.__init__(self)\n",
    "        \n",
    "    def calculate(self, operation: str, *args: float) -> float:\n",
    "        if operation == '+':\n",
    "            return self.sums(args[0])\n",
    "        elif operation == '-':\n",
    "            return self.sub(args[0])\n",
    "        elif operation == '*':\n",
    "            return self.mult(args[0])\n",
    "        elif operation == '/':\n",
    "            return self.div(args[0])\n",
    "        elif operation == 'power':\n",
    "            return self.power(args[0], args[1])\n",
    "        elif operation == 'square':\n",
    "            return self.root(args[0], args[1])\n",
    "        elif operation == 'log':\n",
    "            return self.log(args[0], args[1])\n",
    "        else:\n",
    "            return None"
   ]
  },
  {
   "cell_type": "code",
   "execution_count": null,
   "metadata": {},
   "outputs": [],
   "source": [
    "calc = Calculator(2)\n",
    "print(calc.calculate('+', 5))"
   ]
  },
  {
   "cell_type": "markdown",
   "metadata": {},
   "source": [
    "#### Parte 5 - Criando interface gráfica\n",
    "---\n",
    "Depois de criar toda a base funcional, criamos a interface com o usuário. Optei pela biblioteca Tkinter para fazer a interface, e aplicar a minha classe Calculator para funcionalidade.\n"
   ]
  },
  {
   "cell_type": "code",
   "execution_count": 8,
   "metadata": {},
   "outputs": [],
   "source": [
    "import tkinter as tk\n",
    "from tkinter import ttk\n",
    "\n",
    "root = tk.Tk()\n",
    "root.title('Calculator')\n",
    "root.iconbitmap('calculator.ico')\n",
    "\n",
    "def select(option):\n",
    "    current_value = value.get()\n",
    "    new_value = str(current_value) + str(option)  # Concatenate current value with new input\n",
    "    value.set(new_value)  # Update the variable to change the Entry display\n",
    "\n",
    "# Initialize StringVar to handle text input\n",
    "value = tk.StringVar()\n",
    "\n",
    "# Create a frame for the entry\n",
    "signin = ttk.Frame(root)\n",
    "signin.grid(row=0, padx=10, pady=10, sticky='ew')  # Use sticky='ew' to fill horizontally\n",
    "\n",
    "# Configure the grid to allow the frame to expand\n",
    "root.grid_rowconfigure(0, weight=1)  # Allow row 0 to expand\n",
    "root.grid_columnconfigure(0, weight=1)  # Allow column 0 to expand\n",
    "\n",
    "# Create the entry widget and bind it to the StringVar\n",
    "email_entry = ttk.Entry(signin, textvariable=value)\n",
    "email_entry.pack(fill='x', expand=True)  # Fill the frame horizontally and expand\n",
    "email_entry.focus()\n",
    "\n",
    "# Create buttons and place them in the grid\n",
    "buttons = [\n",
    "    ('1', '1'), ('2', '2'), ('3', '3'),\n",
    "    ('4', '4'), ('5', '5'), ('6', '6'),\n",
    "    ('7', '7'), ('8', '8'), ('9', '9'),\n",
    "    ('0', '0'), ('+', '+'), ('-', '-'),\n",
    "    ('*', '*'), ('/', '/'), ('=', '='), \n",
    "    ('log', 'log'), ('x²', 'power'), ('√', 'square'),\n",
    "    ('C', 'C'), ('CE', 'CE')\n",
    "]\n",
    "\n",
    "# Place buttons in a grid format\n",
    "row, col = 1, 0\n",
    "for (text, option) in buttons:\n",
    "    button = ttk.Button(root, text=text, command=lambda opt=option: select(opt))  # Add command to buttons\n",
    "    button.grid(row=row, column=col, ipadx=5, ipady=5, sticky='nsew')  # Use sticky='nsew' to allow expansion\n",
    "    col += 1\n",
    "    if col > 3:  # Move to the next row after 4 columns\n",
    "        col = 0\n",
    "        row += 1\n",
    "\n",
    "# Configure the grid for the buttons\n",
    "for i in range(4):  # 4 rows\n",
    "    root.grid_rowconfigure(i, weight=1)\n",
    "for j in range(4):  # 4 columns\n",
    "    root.grid_columnconfigure(j, weight=1)\n",
    "\n",
    "root.mainloop()\n"
   ]
  },
  {
   "cell_type": "code",
   "execution_count": null,
   "metadata": {},
   "outputs": [],
   "source": []
  }
 ],
 "metadata": {
  "kernelspec": {
   "display_name": "Python 3",
   "language": "python",
   "name": "python3"
  },
  "language_info": {
   "codemirror_mode": {
    "name": "ipython",
    "version": 3
   },
   "file_extension": ".py",
   "mimetype": "text/x-python",
   "name": "python",
   "nbconvert_exporter": "python",
   "pygments_lexer": "ipython3",
   "version": "3.12.4"
  }
 },
 "nbformat": 4,
 "nbformat_minor": 2
}
