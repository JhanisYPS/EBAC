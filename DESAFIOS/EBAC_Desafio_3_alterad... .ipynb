{
  "cells": [
    {
      "cell_type": "markdown",
      "metadata": {
        "id": "0GVFZi3RlAWv"
      },
      "source": [
        "## Desafio EBAC - Módulo 9\n",
        "\n",
        "Crie um pacote em Python que implemente uma calculadora com as operações básicas (soma, subtração, multiplicação e divisão) e funções adicionais (potenciação, raiz quadrada e logaritmo) e que possa ser facilmente utilizado em outros projetos.\n",
        "\n",
        "Lembre-se de que você já conhece o nível avançado da linguagem de programação Python e com este desafio, você irá praticar a criação de pacotes em Python, a organização de módulos e scripts em diretórios, além de aprender a tornar o seu código reutilizável e facilmente instalável em outros projetos."
      ]
    },
    {
      "cell_type": "markdown",
      "metadata": {
        "id": "fErhTOOklAWz"
      },
      "source": [
        "### Estruturando Raciocínio\n",
        "---\n",
        "\n",
        "A classe principal deve ser calculadora, e os métodos serão as operações. Portanto, teremos uma classe mãe e duas classes filhas:\n",
        "\n",
        "- **Classe Mãe:**\n",
        "    - Operações Básicas\n",
        "        - Soma\n",
        "        - Subtração\n",
        "        - Multiplicação\n",
        "        - Divisão\n",
        "    - **Classes Filhas:**\n",
        "        - Funções Adicionais\n",
        "            - Potenciação\n",
        "            - Raiz\n",
        "            - Logaritmo\n",
        "        - Calculadora\n",
        "\n",
        "\n",
        "Saída:\n",
        "- Interface gráfica de uma calculadora completamente operacional.\n",
        "\n",
        "Observações:\n",
        "Meu objetivo ao final do código é utilizar bem os conceitos de herança dentro do código e evitar ao máximo o uso de bibliotecas que não sejam nativas do Python."
      ]
    },
    {
      "cell_type": "markdown",
      "metadata": {
        "id": "qRMfZszWlAW0"
      },
      "source": [
        "#### Parte 1 - Operações Básicas\n",
        "---\n",
        "A base de tudo serão os métodos da Classe de Operações básicas. Para criar as funções adicionais será necessário utilizar os métodos criados dentro desse escopo do código.\n"
      ]
    },
    {
      "cell_type": "code",
      "execution_count": 2,
      "metadata": {
        "id": "l1lfEdzPlAW1"
      },
      "outputs": [],
      "source": [
        "def sums(num1:float,num2:float) -> float:\n",
        "    addition = num1 + num2\n",
        "    return addition"
      ]
    },
    {
      "cell_type": "code",
      "execution_count": 3,
      "metadata": {
        "id": "pOkJv23RlAW2",
        "outputId": "b5bf573a-b39c-47e0-f027-b54500d5f994"
      },
      "outputs": [
        {
          "data": {
            "text/plain": [
              "3"
            ]
          },
          "execution_count": 3,
          "metadata": {},
          "output_type": "execute_result"
        }
      ],
      "source": [
        "sums(1,2)"
      ]
    },
    {
      "cell_type": "code",
      "execution_count": 4,
      "metadata": {
        "id": "ACJuMUZPlAW3"
      },
      "outputs": [],
      "source": [
        "def sub(minued:float,subtracting:float) -> float:\n",
        "    subtraction = minued - subtracting\n",
        "    return subtraction"
      ]
    },
    {
      "cell_type": "code",
      "execution_count": 5,
      "metadata": {
        "id": "db58gUWIlAW3",
        "outputId": "d2ae1010-bef7-4142-c380-882860f1e533"
      },
      "outputs": [
        {
          "data": {
            "text/plain": [
              "-1"
            ]
          },
          "execution_count": 5,
          "metadata": {},
          "output_type": "execute_result"
        }
      ],
      "source": [
        "sub(1,2)"
      ]
    },
    {
      "cell_type": "code",
      "execution_count": 6,
      "metadata": {
        "id": "qllHDIUblAW3"
      },
      "outputs": [],
      "source": [
        "def mult(num1:float,num2:float) -> float:\n",
        "    multiplication = num1*num2\n",
        "    return multiplication"
      ]
    },
    {
      "cell_type": "code",
      "execution_count": 7,
      "metadata": {
        "id": "y7bS2NePlAW4",
        "outputId": "f6e933d6-0112-45dd-db81-8fefba980254"
      },
      "outputs": [
        {
          "data": {
            "text/plain": [
              "2"
            ]
          },
          "execution_count": 7,
          "metadata": {},
          "output_type": "execute_result"
        }
      ],
      "source": [
        "mult(1,2)"
      ]
    },
    {
      "cell_type": "code",
      "execution_count": 8,
      "metadata": {
        "id": "FQRI-UGylAW4"
      },
      "outputs": [],
      "source": [
        "def div(dividend:float,divisor:float) -> float:\n",
        "    quotient = dividend/divisor\n",
        "    return quotient"
      ]
    },
    {
      "cell_type": "code",
      "execution_count": 9,
      "metadata": {
        "id": "2gWUDGsBlAW4",
        "outputId": "cf2b8696-6945-4524-ccaa-19613861f26b"
      },
      "outputs": [
        {
          "data": {
            "text/plain": [
              "0.5"
            ]
          },
          "execution_count": 9,
          "metadata": {},
          "output_type": "execute_result"
        }
      ],
      "source": [
        "div(1,2)"
      ]
    },
    {
      "cell_type": "markdown",
      "metadata": {
        "id": "jcPCODJ5lAW5"
      },
      "source": [
        "#### Parte 2 - Funções Adicionais\n",
        "---\n",
        "Agora que toda a parte de operações básicas está construida, vamos implementar as funções adicionais.\n"
      ]
    },
    {
      "cell_type": "code",
      "execution_count": 10,
      "metadata": {
        "id": "J0oqPTTilAW5"
      },
      "outputs": [],
      "source": [
        "def power(base:float,Exponent:float) -> float:\n",
        "    value_of_power = base**Exponent\n",
        "    return value_of_power"
      ]
    },
    {
      "cell_type": "code",
      "execution_count": 11,
      "metadata": {
        "id": "-E3n8XwJlAW5",
        "outputId": "4a5eb574-5cb1-472b-c6af-2f3aafa11df3"
      },
      "outputs": [
        {
          "data": {
            "text/plain": [
              "1"
            ]
          },
          "execution_count": 11,
          "metadata": {},
          "output_type": "execute_result"
        }
      ],
      "source": [
        "power(1,2)"
      ]
    },
    {
      "cell_type": "code",
      "execution_count": 12,
      "metadata": {
        "id": "NmeHbrHTlAW5"
      },
      "outputs": [],
      "source": [
        "def root(radicand:float, index:float) ->float:\n",
        "    value_of_root = power(radicand,1/index)\n",
        "    return value_of_root"
      ]
    },
    {
      "cell_type": "code",
      "execution_count": 13,
      "metadata": {
        "id": "nRyNnnmllAW5",
        "outputId": "2911e6d5-502f-4163-9ee1-ad8761b2195d"
      },
      "outputs": [
        {
          "data": {
            "text/plain": [
              "1.0"
            ]
          },
          "execution_count": 13,
          "metadata": {},
          "output_type": "execute_result"
        }
      ],
      "source": [
        "root(1,2)"
      ]
    },
    {
      "cell_type": "code",
      "execution_count": 14,
      "metadata": {
        "id": "28b3H4E0lAW6",
        "outputId": "37fc6c78-6086-4a4c-dcaf-db0ae81fb1e4"
      },
      "outputs": [
        {
          "data": {
            "text/plain": [
              "5.0"
            ]
          },
          "execution_count": 14,
          "metadata": {},
          "output_type": "execute_result"
        }
      ],
      "source": [
        "root(25,2)"
      ]
    },
    {
      "cell_type": "code",
      "execution_count": 15,
      "metadata": {
        "id": "kGnAWNLElAW6",
        "outputId": "062b6d20-6013-471d-87e1-b626a39523ef"
      },
      "outputs": [
        {
          "data": {
            "text/plain": [
              "3.0"
            ]
          },
          "execution_count": 15,
          "metadata": {},
          "output_type": "execute_result"
        }
      ],
      "source": [
        "root(27,3)"
      ]
    },
    {
      "cell_type": "markdown",
      "metadata": {
        "id": "Wr1RJMpHlAW6"
      },
      "source": [
        "##### Logaritmo\n",
        "---\n",
        "Criar uma função que calcule o logaritmo em qualquer base não é uma tarefa fácil. Para chegar a uma solução, utilizei a definição de logaritmo e apliquei um método de tentativa e erro, sem utilizar nenhuma função nativa do Python, como math.log().\n",
        "\n",
        "A função math.log() no Python calcula apenas logaritmos nas bases 10 e\n",
        "𝑒\n",
        "e, mas eu queria algo mais flexível, permitindo o cálculo em qualquer base.\n",
        "\n",
        "A lógica que implementei se baseia em incrementar o valor do expoente em 0.0001 sucessivamente até que a potência atinja o valor correspondente ao logaritmo desejado.\n",
        "\n",
        "Embora esta abordagem não seja a mais otimizada em termos de uso de memória (RAM), é uma solução simples e direta para um problema complexo. Considerei também outras soluções, como criar um algoritmo de fatoração por números primos ou usar o Método de Newton (que seria o mais eficiente do ponto de vista computacional), mas optei por este método porque funciona e produz resultados razoavelmente satisfatórios."
      ]
    },
    {
      "cell_type": "code",
      "execution_count": 16,
      "metadata": {
        "id": "jJHA5mDilAW6"
      },
      "outputs": [],
      "source": [
        "def log(base:float, argument:float) -> float:\n",
        "    i=0\n",
        "    precision = 0.0001\n",
        "\n",
        "    while True:\n",
        "        i= i + precision\n",
        "        test = power(base,i)\n",
        "\n",
        "        if round(abs(test - argument),4) < precision:\n",
        "            logarithm= i\n",
        "            break\n",
        "    return round(logarithm,2)"
      ]
    },
    {
      "cell_type": "code",
      "execution_count": 17,
      "metadata": {
        "id": "xi98mS86lAW7",
        "outputId": "1d22e9dc-361d-431a-bd12-ce9045fc35bc"
      },
      "outputs": [
        {
          "data": {
            "text/plain": [
              "3.0"
            ]
          },
          "execution_count": 17,
          "metadata": {},
          "output_type": "execute_result"
        }
      ],
      "source": [
        "log(2,8)"
      ]
    },
    {
      "cell_type": "markdown",
      "metadata": {
        "id": "oOg0RDqblAW7"
      },
      "source": [
        "##### Feedback Chat GPT\n",
        "---\n",
        "Sua solução tem uma abordagem interessante e válida, principalmente para um exercício de implementação \"manual\" de logaritmo sem utilizar funções nativas do Python. É uma solução simples de tentativa e erro, que pode ser eficaz para fins didáticos ou para cenários que não exigem alta eficiência.\n",
        "\n",
        "##### Pontos fortes:\n",
        "1. **Simplicidade**: Sua lógica é direta e fácil de entender. Ao usar incrementos progressivos para tentar encontrar o valor do logaritmo, você evita complexidades algorítmicas.\n",
        "2. **Objetivo claro**: Você conseguiu atingir o objetivo de não usar funções nativas, o que é um bom exercício para entender como os algoritmos funcionam por trás das funções prontas.\n",
        "3. **Flexibilidade**: O código permite o cálculo de logaritmos em qualquer base, o que vai além da limitação da função nativa `math.log()`.\n",
        "\n",
        "##### Pontos de melhoria:\n",
        "1. **Eficiência**: Embora simples, o método de tentativa e erro não é muito eficiente. Dependendo do valor do argumento e da base, o número de iterações pode se tornar muito grande, consumindo mais tempo e recursos.\n",
        "   \n",
        "   - Por exemplo, se o argumento for muito grande, você vai precisar de muitas iterações para chegar ao valor correto, o que não seria ideal em termos de performance. Usar um método mais eficiente, como o Método de Newton, reduziria o número de iterações significativamente.\n",
        "   \n",
        "2. **Explicação técnica**: Sua explicação poderia ser um pouco mais detalhada em alguns pontos. Quando você menciona \"incremento de 0.0001 ao índice da potência\", poderia esclarecer que este \"índice\" se refere ao valor do logaritmo que está sendo aproximado progressivamente. Além disso, seria bom explicar melhor porque o método de Newton é mais eficiente, mas você optou por não usá-lo neste caso.\n",
        "\n",
        "3. **Tolerância**: O uso de uma precisão fixa de 0.0001 funciona, mas talvez você possa pensar em adaptar a precisão com base no tamanho do argumento, para acelerar o processo em números maiores.\n",
        "\n",
        "##### Considerações finais:\n",
        "Sua solução tem mérito por ser clara e atingir o objetivo de forma simples. Porém, dependendo da aplicação prática, pode ser necessário considerar alternativas mais eficientes. A explicação foi boa, mas poderia ser mais técnica em alguns trechos, especialmente se seu público for mais familiarizado com algoritmos numéricos."
      ]
    },
    {
      "cell_type": "code",
      "execution_count": 18,
      "metadata": {
        "id": "1br-ld4slAW7",
        "outputId": "50b3f392-6d28-4ef4-b6ce-44d29f8dac10"
      },
      "outputs": [
        {
          "name": "stdout",
          "output_type": "stream",
          "text": [
            "3.0\n"
          ]
        }
      ],
      "source": [
        "#Solução do GPT\n",
        "\n",
        "def log(base: float, argument: float) -> float:\n",
        "    guess = argument / base  # Começa com uma estimativa inicial\n",
        "    tolerance = 0.00001  # Defina a precisão desejada\n",
        "    max_iter = 100  # Número máximo de iterações para prevenir loops infinitos\n",
        "\n",
        "    for _ in range(max_iter):\n",
        "        # f(x) = base^guess - argument\n",
        "        power_result = power(base, guess)\n",
        "        f_guess = power_result - argument\n",
        "\n",
        "        # Derivada de f(x) = base^x * ln(base)\n",
        "        # Aproximamos ln(base) usando (base - 1) / base como uma simplificação inicial\n",
        "        ln_base = (base - 1) / base\n",
        "        derivative = power_result * ln_base\n",
        "\n",
        "        # Atualiza o valor de 'guess' usando o Método de Newton\n",
        "        new_guess = guess - f_guess / derivative\n",
        "\n",
        "        # Se a diferença entre as aproximações for pequena o suficiente, paramos\n",
        "        if abs(new_guess - guess) < tolerance:\n",
        "            return round(new_guess, 5)\n",
        "\n",
        "        guess = new_guess  # Atualiza a estimativa\n",
        "\n",
        "    return round(guess, 5)  # Caso não alcance a precisão após as iterações\n",
        "\n",
        "# Teste o código\n",
        "print(log(2, 8))  # Deve retornar aproximadamente 3"
      ]
    },
    {
      "cell_type": "markdown",
      "metadata": {
        "id": "I2YEEXnelAW7"
      },
      "source": [
        "##### Eu vs GPT\n",
        "---\n",
        "Eu quis comparar o desempenho da minha abordagem com a do chat GPT para tomar a decisão de qual manter na contrução da classe."
      ]
    },
    {
      "cell_type": "code",
      "execution_count": 19,
      "metadata": {
        "id": "MVUPdlqrlAW7",
        "outputId": "34417b62-247e-4d7d-bb71-052bdd8504a8"
      },
      "outputs": [
        {
          "name": "stdout",
          "output_type": "stream",
          "text": [
            "Tempo do meu código: 11.03910779999569\n",
            "Tempo do código GPT: 0.0008970999915618449\n"
          ]
        }
      ],
      "source": [
        "import timeit\n",
        "\n",
        "# Código (com tentativa e erro)\n",
        "user_log_code = '''\n",
        "def power(base: float, exponent: float) -> float:\n",
        "    return base ** exponent\n",
        "\n",
        "def log(base: float, argument: float) -> float:\n",
        "    i = 0\n",
        "    precision = 0.0001\n",
        "    while True:\n",
        "        i += precision\n",
        "        test = power(base, i)\n",
        "        if round(abs(test - argument), 4) < precision:\n",
        "            logarithm = i\n",
        "            break\n",
        "    return round(logarithm, 2)\n",
        "\n",
        "log(2, 8)\n",
        "'''\n",
        "\n",
        "# Código otimizado com Método de Newton\n",
        "optimized_log_code = '''\n",
        "def power(base: float, exponent: float) -> float:\n",
        "    return base ** exponent\n",
        "\n",
        "def log(base: float, argument: float) -> float:\n",
        "    guess = argument / base  # Estimativa inicial\n",
        "    tolerance = 0.00001  # Precisão desejada\n",
        "    max_iter = 100  # Máximo de iterações\n",
        "\n",
        "    for _ in range(max_iter):\n",
        "        power_result = power(base, guess)\n",
        "        f_guess = power_result - argument\n",
        "        ln_base = (base - 1) / base  # Aproximação de ln(base)\n",
        "        derivative = power_result * ln_base\n",
        "        new_guess = guess - f_guess / derivative\n",
        "        if abs(new_guess - guess) < tolerance:\n",
        "            return round(new_guess, 5)\n",
        "        guess = new_guess\n",
        "    return round(guess, 5)\n",
        "\n",
        "log(2, 8)\n",
        "'''\n",
        "\n",
        "# Medir o tempo de execução do código do usuário\n",
        "user_log_time = timeit.timeit(user_log_code, number=1000)\n",
        "\n",
        "# Medir o tempo de execução do código otimizado\n",
        "optimized_log_time = timeit.timeit(optimized_log_code, number=1000)\n",
        "\n",
        "print(f\"Tempo do meu código: {user_log_time}\")\n",
        "print(f\"Tempo do código GPT: {optimized_log_time}\")\n"
      ]
    },
    {
      "cell_type": "markdown",
      "metadata": {
        "id": "c39Zn0pBlAW8"
      },
      "source": [
        "Por uma diferença gritante de desempenho seguimos com o do GPT que implementou o método ne Newton a partir do código de tentativa e erro que forneci a ele.\n",
        "\n",
        "Eu creio que podemos sim usar a IA como suporte nos nossos projetos, mas sempre mantendo o senso crítico, e lembrando que soluções otimizadas feitas por IA precisam de códigos bases e boa orientação. Meu prompt de comando foi:\n",
        "\n",
        "<code>\n",
        "Fazer uma função que calcule o logaritmo em qualquer base não é fácil, usei a definição de log para poder chegar a uma solução de tentativa e erro sem utilizar nenhuma função nativa do python, como a função  math.log ().\n",
        "\n",
        "A função  '''math.log ()''' só calcula log na base 10 e eu queria mais que isso.\n",
        "\n",
        "Minha lógica se baseia no incremento de 0.0001 ao indice da potencia infinitas vezes até chegarmos ao valor de log correspondente.\n",
        "\n",
        "É a solução menos otimizada em termos de RAM, mas é o raciocinio mais simples e curto para um problema complexo, considerei resolver criando um código de fatoração por números primos, e também pelo método de Newton (Em questão de calculo esse é o melhor), contudo a minha solução funciona e é razoavelmente satisfatória.\n",
        "\n",
        "Solução:\n",
        "def log(base:float, argument:float) -> float:\n",
        "    i=0\n",
        "    precision = 0.0001\n",
        "    \n",
        "    while True:\n",
        "        i= i + precision\n",
        "        test = power(base,i)\n",
        "        \n",
        "        if round(abs(test - argument),4) < precision:\n",
        "            logarithm= i\n",
        "            break\n",
        "    return round(logarithm,2)\n",
        "</code>"
      ]
    },
    {
      "cell_type": "markdown",
      "metadata": {
        "id": "zBRiDn48lAW8"
      },
      "source": [
        "#### Parte 3 - Criando os Pacotes Py\n",
        "---\n",
        "Agora que todas as operações estão criadas, vamos criar as classes principais e transformar elas em pacotes.\n"
      ]
    },
    {
      "cell_type": "code",
      "execution_count": 20,
      "metadata": {
        "id": "3wydX6EClAW8"
      },
      "outputs": [],
      "source": [
        "class BasicOperations:\n",
        "    def __init__(self, input: float = 0) -> None:\n",
        "        self.input = input\n",
        "\n",
        "    def sums(self, value:float) -> float:\n",
        "        addition = self.input + value\n",
        "        return addition\n",
        "\n",
        "    def sub(self, subtracting:float) -> float:\n",
        "        minued = self.input\n",
        "        subtraction = minued - subtracting\n",
        "        return subtraction\n",
        "\n",
        "    def mult(self, value:float) -> float:\n",
        "        multiplication = self.input*value\n",
        "        return multiplication\n",
        "\n",
        "    def div(self, divisor:float) -> float:\n",
        "        dividend = self.input\n",
        "        try:\n",
        "            quotient = dividend/divisor\n",
        "        except ZeroDivisionError:\n",
        "            quotient = None\n",
        "        return quotient\n"
      ]
    },
    {
      "cell_type": "markdown",
      "metadata": {
        "id": "La-8CRZ-lAW8"
      },
      "source": [
        "No código acima resolvi deixar essa classe preparada para fazer parte da calculadora, porém continuar util em outras abordagens."
      ]
    },
    {
      "cell_type": "code",
      "execution_count": 21,
      "metadata": {
        "id": "St_Se1gUlAW8"
      },
      "outputs": [],
      "source": [
        "class ScientificOperations:\n",
        "    def __init__(self) -> None:\n",
        "        pass\n",
        "\n",
        "    def power(self, base: float, exponent: float) -> float:\n",
        "        return base ** exponent\n",
        "\n",
        "    def square(self, radicand: float, index: float) -> float:\n",
        "        return self.power(radicand, 1 / index)\n",
        "\n",
        "    def log(self, base: float, argument: float) -> float:\n",
        "        # Verificações para valores inválidos\n",
        "        if base <= 0 or base == 1 or argument <= 0:\n",
        "            return None  # Retorna None se a base ou o argumento não são válidos\n",
        "\n",
        "        guess = argument / base  # Começa com uma estimativa inicial\n",
        "        tolerance = 0.00001  # Defina a precisão desejada\n",
        "\n",
        "        while True:\n",
        "            # f(x) = base^guess - argument\n",
        "            power_result = self.power(base, guess)\n",
        "            f_guess = power_result - argument\n",
        "\n",
        "            # Derivada de f(x) = base^x * ln(base)\n",
        "            # Aproximamos ln(base) usando (base - 1) / base como uma simplificação inicial\n",
        "            ln_base = (base - 1) / base\n",
        "            derivative = power_result * ln_base\n",
        "\n",
        "            # Atualiza o valor de 'guess' usando o Método de Newton\n",
        "            new_guess = guess - f_guess / derivative\n",
        "\n",
        "            # Se a diferença entre as aproximações for pequena o suficiente, paramos\n",
        "            if abs(new_guess - guess) < tolerance:\n",
        "                return round(new_guess, 5)\n",
        "\n",
        "            guess = new_guess  # Atualiza a estimativa\n"
      ]
    },
    {
      "cell_type": "markdown",
      "metadata": {
        "id": "hI1t1RkjlAW9"
      },
      "source": [
        "A única alteração que fiz no código do GPT foi trocar o for pelo while, pois eu quero poder lidar com o calculo de qualquer grandeza numérica."
      ]
    },
    {
      "cell_type": "markdown",
      "metadata": {
        "id": "BF0AHzRmlAW9"
      },
      "source": [
        "#### Parte 4 - Criando a Classe Principal\n",
        "---\n",
        "Após criar os pacotes, só nos resta criar a classe principal que irá herdar as funcionalidades das classes filhas e incorporar as características de uma calculadora.\n"
      ]
    },
    {
      "cell_type": "code",
      "execution_count": 22,
      "metadata": {
        "id": "4sGL5Of2lAW9"
      },
      "outputs": [],
      "source": [
        "class Calculator(BasicOperations, ScientificOperations):\n",
        "    def __init__(self, input: float = 0) -> None:\n",
        "        BasicOperations.__init__(self, input)\n",
        "        ScientificOperations.__init__(self)\n",
        "\n",
        "    def calculate(self, operation: str, *args: float) -> float:\n",
        "        if operation == '+':\n",
        "            return self.sums(args[0])\n",
        "        elif operation == '-':\n",
        "            return self.sub(args[0])\n",
        "        elif operation == '*':\n",
        "            return self.mult(args[0])\n",
        "        elif operation == '/':\n",
        "            return self.div(args[0])\n",
        "        elif operation == 'power':\n",
        "            return self.power(args[0], args[1])\n",
        "        elif operation == 'square':\n",
        "            return self.root(args[0], args[1])\n",
        "        elif operation == 'log':\n",
        "            return self.log(args[0], args[1])\n",
        "        else:\n",
        "            return None"
      ]
    },
    {
      "cell_type": "code",
      "execution_count": 23,
      "metadata": {
        "id": "ZyUUVMm-lAW9",
        "outputId": "1b43b8a3-4b9f-4e3b-90e9-cdc4f6d301aa"
      },
      "outputs": [
        {
          "name": "stdout",
          "output_type": "stream",
          "text": [
            "7\n"
          ]
        }
      ],
      "source": [
        "calc = Calculator(2)\n",
        "print(calc.calculate('+', 5))"
      ]
    },
    {
      "cell_type": "markdown",
      "metadata": {
        "id": "F8ItB70tlAW9"
      },
      "source": [
        "#### Parte 5 - Criando interface gráfica\n",
        "---\n",
        "Depois de criar toda a base funcional, criamos a interface com o usuário. Optei pela biblioteca Tkinter para fazer a interface, e aplicar a minha classe Calculator para funcionalidade.\n"
      ]
    },
    {
      "cell_type": "code",
      "execution_count": 24,
      "metadata": {
        "id": "8O-YwaSXlAW9"
      },
      "outputs": [
        {
          "ename": "TclError",
          "evalue": "bitmap \"calculator.ico\" not defined",
          "output_type": "error",
          "traceback": [
            "\u001b[1;31m---------------------------------------------------------------------------\u001b[0m",
            "\u001b[1;31mTclError\u001b[0m                                  Traceback (most recent call last)",
            "Cell \u001b[1;32mIn[24], line 7\u001b[0m\n\u001b[0;32m      5\u001b[0m root \u001b[38;5;241m=\u001b[39m tk\u001b[38;5;241m.\u001b[39mTk()\n\u001b[0;32m      6\u001b[0m root\u001b[38;5;241m.\u001b[39mtitle(\u001b[38;5;124m'\u001b[39m\u001b[38;5;124mCalculator\u001b[39m\u001b[38;5;124m'\u001b[39m)\n\u001b[1;32m----> 7\u001b[0m \u001b[43mroot\u001b[49m\u001b[38;5;241;43m.\u001b[39;49m\u001b[43miconbitmap\u001b[49m\u001b[43m(\u001b[49m\u001b[38;5;124;43m'\u001b[39;49m\u001b[38;5;124;43mcalculator.ico\u001b[39;49m\u001b[38;5;124;43m'\u001b[39;49m\u001b[43m)\u001b[49m\n\u001b[0;32m      9\u001b[0m \u001b[38;5;28;01mdef\u001b[39;00m \u001b[38;5;21mcalculate\u001b[39m():\n\u001b[0;32m     10\u001b[0m     \u001b[38;5;28;01mtry\u001b[39;00m:\n",
            "File \u001b[1;32mc:\\Users\\z004hk9e\\AppData\\Local\\Programs\\Python\\Python312\\Lib\\tkinter\\__init__.py:2156\u001b[0m, in \u001b[0;36mWm.wm_iconbitmap\u001b[1;34m(self, bitmap, default)\u001b[0m\n\u001b[0;32m   2154\u001b[0m     \u001b[38;5;28;01mreturn\u001b[39;00m \u001b[38;5;28mself\u001b[39m\u001b[38;5;241m.\u001b[39mtk\u001b[38;5;241m.\u001b[39mcall(\u001b[38;5;124m'\u001b[39m\u001b[38;5;124mwm\u001b[39m\u001b[38;5;124m'\u001b[39m, \u001b[38;5;124m'\u001b[39m\u001b[38;5;124miconbitmap\u001b[39m\u001b[38;5;124m'\u001b[39m, \u001b[38;5;28mself\u001b[39m\u001b[38;5;241m.\u001b[39m_w, \u001b[38;5;124m'\u001b[39m\u001b[38;5;124m-default\u001b[39m\u001b[38;5;124m'\u001b[39m, default)\n\u001b[0;32m   2155\u001b[0m \u001b[38;5;28;01melse\u001b[39;00m:\n\u001b[1;32m-> 2156\u001b[0m     \u001b[38;5;28;01mreturn\u001b[39;00m \u001b[38;5;28;43mself\u001b[39;49m\u001b[38;5;241;43m.\u001b[39;49m\u001b[43mtk\u001b[49m\u001b[38;5;241;43m.\u001b[39;49m\u001b[43mcall\u001b[49m\u001b[43m(\u001b[49m\u001b[38;5;124;43m'\u001b[39;49m\u001b[38;5;124;43mwm\u001b[39;49m\u001b[38;5;124;43m'\u001b[39;49m\u001b[43m,\u001b[49m\u001b[43m \u001b[49m\u001b[38;5;124;43m'\u001b[39;49m\u001b[38;5;124;43miconbitmap\u001b[39;49m\u001b[38;5;124;43m'\u001b[39;49m\u001b[43m,\u001b[49m\u001b[43m \u001b[49m\u001b[38;5;28;43mself\u001b[39;49m\u001b[38;5;241;43m.\u001b[39;49m\u001b[43m_w\u001b[49m\u001b[43m,\u001b[49m\u001b[43m \u001b[49m\u001b[43mbitmap\u001b[49m\u001b[43m)\u001b[49m\n",
            "\u001b[1;31mTclError\u001b[0m: bitmap \"calculator.ico\" not defined"
          ]
        }
      ],
      "source": [
        "import tkinter as tk\n",
        "from tkinter import ttk\n",
        "import math\n",
        "\n",
        "root = tk.Tk()\n",
        "root.title('Calculator')\n",
        "root.iconbitmap('calculator.ico')\n",
        "\n",
        "def calculate():\n",
        "    try:\n",
        "        current_value = value.get()\n",
        "        result = eval(current_value)\n",
        "        value.set(result)\n",
        "    except Exception as e:\n",
        "        value.set(\"Error\")\n",
        "\n",
        "def clear():\n",
        "    value.set('')\n",
        "\n",
        "def clear_entry():\n",
        "    current_value = value.get()\n",
        "    value.set(current_value[:-1])\n",
        "\n",
        "def handle_special_operations(operation):\n",
        "    current_value = value.get()\n",
        "    try:\n",
        "        if operation == 'log':\n",
        "            result = math.log(float(current_value))\n",
        "        elif operation == 'power':\n",
        "            result = float(current_value) ** 2\n",
        "        elif operation == 'square':\n",
        "            result = math.sqrt(float(current_value))\n",
        "        value.set(result)\n",
        "    except Exception as e:\n",
        "        value.set(\"Error\")\n",
        "\n",
        "def select(option):\n",
        "    if option == \"=\":\n",
        "        calculate()\n",
        "    elif option == \"C\":\n",
        "        clear()\n",
        "    elif option == \"CE\":\n",
        "        clear_entry()\n",
        "    elif option in ['log', 'power', 'square']:\n",
        "        handle_special_operations(option)\n",
        "    else:\n",
        "        current_value = value.get()\n",
        "        new_value = str(current_value) + str(option)\n",
        "        value.set(new_value)\n",
        "\n",
        "value = tk.StringVar()\n",
        "\n",
        "signin = ttk.Frame(root)\n",
        "signin.grid(row=0, padx=10, pady=10, sticky='ew')\n",
        "\n",
        "email_entry = ttk.Entry(signin, textvariable=value)\n",
        "email_entry.pack(fill='x', expand=True)\n",
        "email_entry.focus()\n",
        "\n",
        "buttons = [\n",
        "    ('1', '1'), ('2', '2'), ('3', '3'), ('4', '4'),\n",
        "    ('5', '5'), ('6', '6'), ('7', '7'), ('8', '8'),\n",
        "    ('9', '9'), ('0', '0'), ('+', '+'), ('-', '-'),\n",
        "    ('*', '*'), ('/', '/'), ('=', '='),\n",
        "    ('log', 'log'), ('x²', 'power'), ('√', 'square'),\n",
        "    ('C', 'C'), ('CE', 'CE')\n",
        "]\n",
        "\n",
        "row, col = 1, 0\n",
        "for (text, option) in buttons:\n",
        "    button = ttk.Button(root, text=text, command=lambda opt=option: select(opt))\n",
        "    button.grid(row=row, column=col, ipadx=5, ipady=5, sticky='nsew')\n",
        "    col += 1\n",
        "    if col > 3:\n",
        "        col = 0\n",
        "        row += 1\n",
        "\n",
        "for i in range(5):\n",
        "    root.grid_rowconfigure(i, weight=1)\n",
        "for j in range(4):\n",
        "    root.grid_columnconfigure(j, weight=1)\n",
        "root.mainloop()"
      ]
    },
    {
      "cell_type": "code",
      "execution_count": null,
      "metadata": {
        "id": "nuA_kX_GlAW-"
      },
      "outputs": [],
      "source": []
    }
  ],
  "metadata": {
    "colab": {
      "provenance": []
    },
    "kernelspec": {
      "display_name": "Python 3",
      "language": "python",
      "name": "python3"
    },
    "language_info": {
      "codemirror_mode": {
        "name": "ipython",
        "version": 3
      },
      "file_extension": ".py",
      "mimetype": "text/x-python",
      "name": "python",
      "nbconvert_exporter": "python",
      "pygments_lexer": "ipython3",
      "version": "3.12.4"
    }
  },
  "nbformat": 4,
  "nbformat_minor": 0
}
