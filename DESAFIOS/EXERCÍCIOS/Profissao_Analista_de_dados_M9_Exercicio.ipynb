{
  "cells": [
    {
      "cell_type": "markdown",
      "metadata": {
        "id": "KJqp9AANOCtf"
      },
      "source": [
        "<img src=\"https://raw.githubusercontent.com/andre-marcos-perez/ebac-course-utils/main/media/logo/newebac_logo_black_half.png\" alt=\"ebac-logo\">\n",
        "\n",
        "---\n",
        "\n",
        "# **Módulo** | Python: Scripting\n",
        "Caderno de **Exercícios**<br>\n",
        "Professor [André Perez](https://www.linkedin.com/in/andremarcosperez/)\n",
        "\n",
        "---"
      ]
    },
    {
      "cell_type": "markdown",
      "metadata": {
        "id": "d9jDtUbDOE1-"
      },
      "source": [
        "# **Tópicos**\n",
        "\n",
        "<ol type=\"1\">\n",
        "  <li>Instalando o Python na própria máquina;</li>\n",
        "  <li>Executando código Python no terminal;</li>\n",
        "  <li>Criando arquivos de script Python.</li>\n",
        "</ol>"
      ]
    },
    {
      "cell_type": "markdown",
      "metadata": {
        "id": "SmoHgt-lwkpD"
      },
      "source": [
        "---"
      ]
    },
    {
      "cell_type": "markdown",
      "metadata": {
        "id": "GABI6OW8OfQ2"
      },
      "source": [
        "# **Exercícios**"
      ]
    },
    {
      "cell_type": "markdown",
      "metadata": {
        "id": "muD1vxozykSC"
      },
      "source": [
        "## 0\\. Preparando o ambiente"
      ]
    },
    {
      "cell_type": "markdown",
      "metadata": {
        "id": "4TT1IaG2DOuR"
      },
      "source": [
        " - Instalando o Python e o PIP na sua máquina."
      ]
    },
    {
      "cell_type": "markdown",
      "metadata": {
        "id": "eTI82AggBgY3"
      },
      "source": [
        "Nestes exercícios você vai precisar do Python (versão 3.x) e do PIP instalados na sua máquina. Abra o seu terminal (windows `cmd` ou linux/mcos `terminal`) e\n",
        "verifique se ambos estão instalados na sua máquina.\n",
        "\n",
        "```shell\n",
        "python -V # possível resultado: Python 3.8.5\n",
        "pip -V # possível resultado: pip 20.0.2 ...\n",
        "```\n",
        "\n",
        "Se pelo menos um dos softwares não estiver instalados na sua máquina, siga as instruções da aula para instala-los. Se você tiver enfrentando algum problema, entre em contato com o tutor."
      ]
    },
    {
      "cell_type": "markdown",
      "metadata": {
        "id": "PfJij-X6DS3o"
      },
      "source": [
        " - Instalando os pacotes necessários."
      ]
    },
    {
      "cell_type": "markdown",
      "metadata": {
        "id": "qfhQuCEaDb3H"
      },
      "source": [
        "Instale os pacotes necessários para conduzir os exercícios.\n",
        "\n",
        "```shell\n",
        "pip install pandas==1.2.4 seaborn==0.11.1 requests==2.25.1\n",
        "```"
      ]
    },
    {
      "cell_type": "markdown",
      "metadata": {
        "id": "zMN1Q3jdwoJm"
      },
      "source": [
        "---"
      ]
    },
    {
      "cell_type": "markdown",
      "metadata": {
        "id": "GWgNoJN8DHyY"
      },
      "source": [
        "## 1\\. Script de Extração"
      ]
    },
    {
      "cell_type": "markdown",
      "metadata": {
        "id": "YynK1vf2DHyj"
      },
      "source": [
        "O *script* para extrair a taxa CDI do site do BCB foi adaptado para ser executado 10 vezes para gerar nossa base de dados. Na sua máquina, crie o arquivo `extracao.py` com o `script` abaixo e execute-o com o comando:\n",
        "\n",
        "```shell\n",
        "python extracao.py\n",
        "```\n",
        "\n",
        "No final, você deve ter o arquivo `taxa-cdi.csv` com os dados extraídos."
      ]
    },
    {
      "cell_type": "code",
      "execution_count": null,
      "metadata": {
        "id": "KBACJiHrRqiC"
      },
      "outputs": [],
      "source": [
        "import os\n",
        "import time\n",
        "import json\n",
        "from random import random\n",
        "from datetime import datetime\n",
        "\n",
        "import requests\n",
        "\n",
        "URL = 'https://api.bcb.gov.br/dados/serie/bcdata.sgs.4392/dados'\n",
        "\n",
        "# Captando a taxa CDI do site do BCB\n",
        "\n",
        "try:\n",
        "  response = requests.get(url=URL)\n",
        "  response.raise_for_status()\n",
        "except requests.HTTPError as exc:\n",
        "  print(\"Dado não encontrado, continuando.\")\n",
        "  cdi = None\n",
        "except Exception as exc:\n",
        "  print(\"Erro, parando a execução.\")\n",
        "  raise exc\n",
        "else:\n",
        "  dado = json.loads(response.text)[-1]['valor']\n",
        "\n",
        "# Criando a variável data e hora\n",
        "\n",
        "for _ in range(0, 10):\n",
        "\n",
        "  data_e_hora = datetime.now()\n",
        "  data = datetime.strftime(data_e_hora, '%Y/%m/%d')\n",
        "  hora = datetime.strftime(data_e_hora, '%H:%M:%S')\n",
        "\n",
        "  cdi = float(dado) + (random() - 0.5)\n",
        "\n",
        "  # Verificando se o arquivo \"taxa-cdi.csv\" existe\n",
        "\n",
        "  if os.path.exists('./taxa-cdi.csv') == False:\n",
        "\n",
        "    with open(file='./taxa-cdi.csv', mode='w', encoding='utf8') as fp:\n",
        "      fp.write('data,hora,taxa\\n')\n",
        "\n",
        "  # Salvando dados no arquivo \"taxa-cdi.csv\"\n",
        "\n",
        "  with open(file='./taxa-cdi.csv', mode='a', encoding='utf8') as fp:\n",
        "    fp.write(f'{data},{hora},{cdi}\\n')\n",
        "\n",
        "  time.sleep(1)\n",
        "\n",
        "print(\"Sucesso\")"
      ]
    },
    {
      "cell_type": "markdown",
      "metadata": {
        "id": "waxn4B2UDHyl"
      },
      "source": [
        "---"
      ]
    },
    {
      "cell_type": "markdown",
      "metadata": {
        "id": "finLQoyyGVmk"
      },
      "source": [
        "## 2\\. Script de Visualização"
      ]
    },
    {
      "cell_type": "markdown",
      "metadata": {
        "id": "99BrnqR4GVmy"
      },
      "source": [
        "Já o *script* para gerar um grafico da taxa CDI do site do BCB foi adaptado para utilizar o pacote Pandas. Na sua máquina, crie o arquivo `visualizacao.py` com o `script` abaixo e execute-o com o comando:\n",
        "\n",
        "```shell\n",
        "python visualizacao.py <nome-do-grafico>\n",
        "```\n",
        "\n",
        "O *script* espera um parametro de entrada com o nome do gráfico, portanto substitua o `<nome-do-grafico>` pelo nome do seu gráfico. No final, você deve ter uma imagem no formato png com o nome passado via parametro contendo a visualização dos dados gerados pelo *script* de extração.."
      ]
    },
    {
      "cell_type": "code",
      "execution_count": null,
      "metadata": {
        "id": "ozGsxHbPGVmz"
      },
      "outputs": [],
      "source": [
        "import csv\n",
        "import sys\n",
        "import pandas as pd\n",
        "import seaborn as sns\n",
        "import matplotlib.pyplot as plt\n",
        "import os\n",
        "\n",
        "# Verificar se um argumento foi passado para o nome do arquivo\n",
        "if len(sys.argv) > 1:\n",
        "    output_filename = sys.argv[1]\n",
        "    # Verificar se a extensão do arquivo é válida\n",
        "    if not os.path.splitext(output_filename)[1] in ['.png', '.jpg', '.jpeg', '.svg', '.pdf']:\n",
        "        output_filename.replace('.json','.png')\n",
        "else:\n",
        "    output_filename = \"grafico.png\"\n",
        "\n",
        "# Extraindo as colunas hora e taxa\n",
        "df = pd.read_csv('./taxa-cdi.csv')\n",
        "\n",
        "# Criando o gráfico\n",
        "plt.figure(figsize=(10, 6))  # Definir tamanho da figura, se necessário\n",
        "grafico = sns.lineplot(x=df['hora'], y=df['taxa'])\n",
        "\n",
        "# Definindo os ticks no eixo x\n",
        "grafico.set_xticks(range(len(df['hora'])))\n",
        "\n",
        "# Definindo as etiquetas dos ticks\n",
        "grafico.set_xticklabels(labels=df['hora'], rotation=90)\n",
        "\n",
        "# Salvando o gráfico\n",
        "grafico.get_figure().savefig(output_filename)\n"
      ]
    },
    {
      "cell_type": "markdown",
      "metadata": {
        "id": "As3enQc2GVm1"
      },
      "source": [
        "---"
      ]
    },
    {
      "cell_type": "markdown",
      "metadata": {
        "id": "SS1PxxfHILHs"
      },
      "source": [
        "## 3\\. Combinando os scripts de extração e visualização."
      ]
    },
    {
      "cell_type": "markdown",
      "metadata": {
        "id": "R4hMJ6D2ILH3"
      },
      "source": [
        "Combine os *scripts* `visualizacao.py` e `extracao.py` no arquivo `analise.py` e execute-o na sua máquina, ele deve retornar os mesmos resultados: o arquivo csv e a imagem no formato png com o título escolhido via parametro de entrada. Procure seguir a organização proposta na aula (PEP8).\n",
        "\n",
        "```shell\n",
        "python analise.py <nome-do-grafico>\n",
        "```\n",
        "\n",
        "Além disso, copie o código na célula abaixo para que o tutor possa avaliar seu exercícios."
      ]
    },
    {
      "cell_type": "code",
      "execution_count": null,
      "metadata": {
        "id": "ogZClDvTILH3"
      },
      "outputs": [],
      "source": [
        "# combinação dos scripts de extração e visualização\n",
        "import os\n",
        "import time\n",
        "import json\n",
        "from random import random\n",
        "from datetime import datetime\n",
        "import csv\n",
        "import sys\n",
        "import pandas as pd\n",
        "import seaborn as sns\n",
        "import matplotlib.pyplot as plt\n",
        "import requests\n",
        "\n",
        "URL = 'https://api.bcb.gov.br/dados/serie/bcdata.sgs.4392/dados'\n",
        "\n",
        "# Captando a taxa CDI do site do BCB\n",
        "\n",
        "try:\n",
        "  response = requests.get(url=URL)\n",
        "  response.raise_for_status()\n",
        "except requests.HTTPError as exc:\n",
        "  print(\"Dado não encontrado, continuando.\")\n",
        "  cdi = None\n",
        "except Exception as exc:\n",
        "  print(\"Erro, parando a execução.\")\n",
        "  raise exc\n",
        "else:\n",
        "  dado = json.loads(response.text)[-1]['valor']\n",
        "\n",
        "# Criando a variável data e hora\n",
        "\n",
        "for _ in range(0, 10):\n",
        "\n",
        "  data_e_hora = datetime.now()\n",
        "  data = datetime.strftime(data_e_hora, '%Y/%m/%d')\n",
        "  hora = datetime.strftime(data_e_hora, '%H:%M:%S')\n",
        "\n",
        "  cdi = float(dado) + (random() - 0.5)\n",
        "\n",
        "  # Verificando se o arquivo \"taxa-cdi.csv\" existe\n",
        "\n",
        "  if os.path.exists('./taxa-cdi.csv') == False:\n",
        "\n",
        "    with open(file='./taxa-cdi.csv', mode='w', encoding='utf8') as fp:\n",
        "      fp.write('data,hora,taxa\\n')\n",
        "\n",
        "  # Salvando dados no arquivo \"taxa-cdi.csv\"\n",
        "\n",
        "  with open(file='./taxa-cdi.csv', mode='a', encoding='utf8') as fp:\n",
        "    fp.write(f'{data},{hora},{cdi}\\n')\n",
        "\n",
        "  time.sleep(1)\n",
        "\n",
        "print(\"Sucesso\")\n",
        "\n",
        "\n",
        "# Verificar se um argumento foi passado para o nome do arquivo\n",
        "if len(sys.argv) > 1:\n",
        "    output_filename = sys.argv[1]\n",
        "    # Verificar se a extensão do arquivo é válida\n",
        "    if not os.path.splitext(output_filename)[1] in ['.png', '.jpg', '.jpeg', '.svg', '.pdf']:\n",
        "        output_filename.replace('.json','.png')\n",
        "else:\n",
        "    output_filename = \"grafico.png\"\n",
        "\n",
        "# Extraindo as colunas hora e taxa\n",
        "df = pd.read_csv('./taxa-cdi.csv')\n",
        "\n",
        "# Criando o gráfico\n",
        "plt.figure(figsize=(10, 6))  # Definir tamanho da figura, se necessário\n",
        "grafico = sns.lineplot(x=df['hora'], y=df['taxa'])\n",
        "\n",
        "# Definindo os ticks no eixo x\n",
        "grafico.set_xticks(range(len(df['hora'])))\n",
        "\n",
        "# Definindo as etiquetas dos ticks\n",
        "grafico.set_xticklabels(labels=df['hora'], rotation=90)\n",
        "\n",
        "# Salvando o gráfico\n",
        "grafico.get_figure().savefig(output_filename)\n",
        "\n"
      ]
    },
    {
      "cell_type": "code",
      "execution_count": null,
      "metadata": {},
      "outputs": [],
      "source": [
        "import os\n",
        "import time\n",
        "import json\n",
        "from random import random\n",
        "from datetime import datetime\n",
        "import csv\n",
        "import sys\n",
        "import pandas as pd\n",
        "import seaborn as sns\n",
        "import matplotlib.pyplot as plt\n",
        "import requests\n",
        "\n",
        "\n",
        "class CDIExtractorVisualizer:\n",
        "    def __init__(self, url, output_csv='./taxa-cdi.csv'):\n",
        "        self.url = url\n",
        "        self.output_csv = output_csv\n",
        "        self.cdi = None\n",
        "        self.output_filename = \"grafico.png\"\n",
        "\n",
        "    def fetch_data(self):\n",
        "        # Captando a taxa CDI do site do BCB\n",
        "        try:\n",
        "            response = requests.get(url=self.url)\n",
        "            response.raise_for_status()\n",
        "        except requests.HTTPError as exc:\n",
        "            print(\"Dado não encontrado, continuando.\")\n",
        "            self.cdi = None\n",
        "        except Exception as exc:\n",
        "            print(\"Erro, parando a execução.\")\n",
        "            raise exc\n",
        "        else:\n",
        "            self.cdi = json.loads(response.text)[-1]['valor']\n",
        "\n",
        "    def create_data_points(self):\n",
        "        # Criando a variável data e hora\n",
        "        for _ in range(0, 10):\n",
        "            data_e_hora = datetime.now()\n",
        "            data = datetime.strftime(data_e_hora, '%Y/%m/%d')\n",
        "            hora = datetime.strftime(data_e_hora, '%H:%M:%S')\n",
        "\n",
        "            cdi_value = float(self.cdi) + (random() - 0.5)\n",
        "\n",
        "            # Verificando se o arquivo \"taxa-cdi.csv\" existe\n",
        "            if not os.path.exists(self.output_csv):\n",
        "                with open(file=self.output_csv, mode='w', encoding='utf8') as fp:\n",
        "                    fp.write('data,hora,taxa\\n')\n",
        "\n",
        "            # Salvando dados no arquivo \"taxa-cdi.csv\"\n",
        "            with open(file=self.output_csv, mode='a', encoding='utf8') as fp:\n",
        "                fp.write(f'{data},{hora},{cdi_value}\\n')\n",
        "\n",
        "            time.sleep(1)\n",
        "\n",
        "        print(\"Sucesso\")\n",
        "\n",
        "    def set_output_filename(self):\n",
        "        # Verificar se um argumento foi passado para o nome do arquivo\n",
        "        if len(sys.argv) > 1:\n",
        "            self.output_filename = sys.argv[1]\n",
        "            # Verificar se a extensão do arquivo é válida\n",
        "            if not os.path.splitext(self.output_filename)[1] in ['.png', '.jpg', '.jpeg', '.svg', '.pdf']:\n",
        "                self.output_filename = self.output_filename.replace('.json','.png')\n",
        "        else:\n",
        "            self.output_filename = \"grafico.png\"\n",
        "\n",
        "    def visualize_data(self):\n",
        "        # Extraindo as colunas hora e taxa\n",
        "        df = pd.read_csv(self.output_csv)\n",
        "\n",
        "        # Criando o gráfico\n",
        "        plt.figure(figsize=(10, 6))  # Definir tamanho da figura, se necessário\n",
        "        grafico = sns.lineplot(x=df['hora'], y=df['taxa'])\n",
        "\n",
        "        # Definindo os ticks no eixo x\n",
        "        grafico.set_xticks(range(len(df['hora'])))\n",
        "\n",
        "        # Definindo as etiquetas dos ticks\n",
        "        grafico.set_xticklabels(labels=df['hora'], rotation=90)\n",
        "\n",
        "        # Salvando o gráfico\n",
        "        grafico.get_figure().savefig(self.output_filename)\n",
        "\n",
        "    def run(self):\n",
        "        self.fetch_data()\n",
        "        self.create_data_points()\n",
        "        self.set_output_filename()\n",
        "        self.visualize_data()\n",
        "\n",
        "\n",
        "if __name__ == \"__main__\":\n",
        "    URL = 'https://api.bcb.gov.br/dados/serie/bcdata.sgs.4392/dados'\n",
        "    cdi_extractor_visualizer = CDIExtractorVisualizer(URL)\n",
        "    cdi_extractor_visualizer.run()\n"
      ]
    },
    {
      "cell_type": "markdown",
      "metadata": {
        "id": "Fx--J2bOILH4"
      },
      "source": [
        "---"
      ]
    }
  ],
  "metadata": {
    "colab": {
      "provenance": []
    },
    "kernelspec": {
      "display_name": "Python 3",
      "name": "python3"
    },
    "language_info": {
      "codemirror_mode": {
        "name": "ipython",
        "version": 3
      },
      "file_extension": ".py",
      "mimetype": "text/x-python",
      "name": "python",
      "nbconvert_exporter": "python",
      "pygments_lexer": "ipython3",
      "version": "3.12.4"
    }
  },
  "nbformat": 4,
  "nbformat_minor": 0
}
