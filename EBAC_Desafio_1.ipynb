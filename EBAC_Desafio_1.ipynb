{
 "cells": [
  {
   "cell_type": "markdown",
   "metadata": {},
   "source": [
    "## Desafio EBAC - Módulo 4\n",
    "---\n",
    "Faça um programa que calcule o valor total investido por um colecionador em sua coleção de CDs e o valor médio gasto em cada um deles. O usuário deverá informar a quantidade de CDs e o valor para cada um.\n",
    "\n",
    "Lembre-se de que você já tem a habilidade de desenvolver variáveis, estruturar dados, criar condições, repetições e funções. "
   ]
  },
  {
   "cell_type": "markdown",
   "metadata": {},
   "source": [
    "### Estruturando Raciocínio\n",
    "---\n",
    "\n",
    "Entrada: \n",
    "- Quantidade de CDs (valor int)\n",
    "- Valor **para cada um** (valor float moeda)\n",
    "\n",
    "Saída:\n",
    "- Valor total investido\n",
    "- Valor médio por CD"
   ]
  },
  {
   "cell_type": "markdown",
   "metadata": {},
   "source": [
    "#### Parte 1 - Garantir que os dados fornecidos sejam de tipo correto\n",
    "---\n",
    "Eu optei por obrigar o usuário a fornecer a quantidade de CDs de forma correta, e enquanto essa condição não é satisfeita o programa fica preso em um looping.\n",
    "\n",
    "Criei o looping em uma função para obter um código final mais limpo. Basicamente a estrutura *while* só quebra quando try se concretiza, o primeiro *except* é o erro mais comum desse input *ValueError*, e o segundo *except* trás a mensagem de erro de qualquer outra exceção.\n",
    "\n",
    "A função retorna um valor inteiro da quantidade de CDs."
   ]
  },
  {
   "cell_type": "code",
   "execution_count": 3,
   "metadata": {},
   "outputs": [],
   "source": [
    "def input_qtd_CD () -> int:\n",
    "    while True:\n",
    "        try:\n",
    "            qtdCd = int(input(\"Informe a quantidade de CDs da sua coleção:\"))\n",
    "            break\n",
    "        except ValueError:\n",
    "            print(\"Verifique se o valor fornecido é um número inteiro\")\n",
    "        except Exception as e:\n",
    "            print(e)\n",
    "    return qtdCd\n"
   ]
  },
  {
   "cell_type": "code",
   "execution_count": 4,
   "metadata": {},
   "outputs": [
    {
     "data": {
      "text/plain": [
       "2"
      ]
     },
     "execution_count": 4,
     "metadata": {},
     "output_type": "execute_result"
    }
   ],
   "source": [
    "input_qtd_CD() # type: ignore"
   ]
  },
  {
   "cell_type": "markdown",
   "metadata": {},
   "source": [
    "O mesmo foi feito para o valor, contudo o tipo de dado que esperamos é float."
   ]
  },
  {
   "cell_type": "code",
   "execution_count": 5,
   "metadata": {},
   "outputs": [],
   "source": [
    "def input_valor_CD () -> float:\n",
    "    while True:\n",
    "        try:\n",
    "            valorCd = float(input(\"Informe o valor do CD:\"))\n",
    "            break\n",
    "        except ValueError:\n",
    "            print(\"Verifique se o valor fornecido é um número válido (ex: 10.00)\")\n",
    "        except Exception as e:\n",
    "            print(e)\n",
    "    return valorCd\n"
   ]
  },
  {
   "cell_type": "code",
   "execution_count": 6,
   "metadata": {},
   "outputs": [
    {
     "data": {
      "text/plain": [
       "10.0"
      ]
     },
     "execution_count": 6,
     "metadata": {},
     "output_type": "execute_result"
    }
   ],
   "source": [
    "input_valor_CD()"
   ]
  },
  {
   "cell_type": "markdown",
   "metadata": {},
   "source": [
    "#### Parte 2 - Atribuir um valor para cada CD\n",
    "---\n",
    "Agora que garantimos que os dados inputados vão estar corretos, precisamos atribuir os valores, aos CDs correspondentes. Relembrando a atividade de filmes, creio que a utilização de dicionários é a ideal.\n",
    "\n",
    "Vamos capturar o nome do CD e o valor, em um for do tamanho informado como quantidade de CDs da coleção."
   ]
  },
  {
   "cell_type": "code",
   "execution_count": 7,
   "metadata": {},
   "outputs": [],
   "source": [
    "def input_nome_CD () -> str:\n",
    "    while True:\n",
    "        try:\n",
    "            nomeCd = str(input(\"Informe o nome do CD:\"))\n",
    "            break\n",
    "        except TypeError:\n",
    "            print(\"Verifique se o valor fornecido é um texto válido\")\n",
    "        except Exception as e:\n",
    "            print(e)\n",
    "    return nomeCd"
   ]
  },
  {
   "cell_type": "code",
   "execution_count": 8,
   "metadata": {},
   "outputs": [
    {
     "data": {
      "text/plain": [
       "'CD1'"
      ]
     },
     "execution_count": 8,
     "metadata": {},
     "output_type": "execute_result"
    }
   ],
   "source": [
    "input_nome_CD()"
   ]
  },
  {
   "cell_type": "code",
   "execution_count": 9,
   "metadata": {},
   "outputs": [],
   "source": [
    "#armazena na variável qtdCD a quantidade de CDs da coleção do usuário\n",
    "qtdCD = input_qtd_CD()"
   ]
  },
  {
   "cell_type": "code",
   "execution_count": 10,
   "metadata": {},
   "outputs": [
    {
     "name": "stdout",
     "output_type": "stream",
     "text": [
      "Insira os dados do CD 1\n",
      "Insira os dados do CD 2\n"
     ]
    }
   ],
   "source": [
    "#Lista que vai armazenar as informações dos CDs em dicionário\n",
    "CDs = []\n",
    "# Para cada CD dentro de qtdCD pegar nome e valor\n",
    "for CD in range(qtdCD):\n",
    "    #Informa ao usuário sobre qual CD ele vai fornecer as informações\n",
    "    print(\"Insira os dados do CD {}\".format(CD+1))\n",
    "    #Chama a função input_nome_CD() e atribui o retorno da função a variável nomeCD\n",
    "    nomeCD = input_nome_CD()\n",
    "    #Chama a função input_valor_CD() e atribui o retorno da função a variável valorCD\n",
    "    valorCD = input_valor_CD()\n",
    "    #Cria um dicionário com os dados de name e value\n",
    "    itemCD = dict(name = nomeCD, value = valorCD)\n",
    "    #Adiciona o dicionário como elemento na Lista\n",
    "    CDs.append(itemCD)\n"
   ]
  },
  {
   "cell_type": "code",
   "execution_count": 11,
   "metadata": {},
   "outputs": [
    {
     "name": "stdout",
     "output_type": "stream",
     "text": [
      "[{'name': 'CD1', 'value': 10.0}, {'name': 'CD2', 'value': 20.0}]\n"
     ]
    }
   ],
   "source": [
    "print(CDs)"
   ]
  },
  {
   "cell_type": "markdown",
   "metadata": {},
   "source": [
    "#### Parte 3 - Fazer Função para Calcular Total Investido\n",
    "---\n",
    "O total investido é a soma da coluna *value*, escolhi fazer uma abordagem onde crio uma função genérica para soma os valores de uma \"coluna\" de dicionário, eu poderia ter sido mais específica e ter usado o método get(), mas minha função só funcionaria para o case desse desafio, então optei por deixar minha função mais versátil e passível de reaproveitamento em outros códigos."
   ]
  },
  {
   "cell_type": "code",
   "execution_count": 12,
   "metadata": {},
   "outputs": [],
   "source": [
    "def sum_column(Lista:list, Coluna:int)->float:\n",
    "    #Definindo lista vazia para armazemar os valores de soma\n",
    "    valores = []\n",
    "    for elementoDict in Lista:\n",
    "        #transformando os valores do dicionário em lista para serem mutáveis\n",
    "        elementoLista = list(elementoDict.values())\n",
    "        #O numero da coluna seleciona, vai determinar qual valor extrair do dicionário que agr é uma lista\n",
    "        valor = elementoLista[Coluna]\n",
    "        #Adiciona o valor extraido na lista de valores\n",
    "        valores.append(valor)\n",
    "    #Soma todos os valores da lista\n",
    "    soma = sum(valores)\n",
    "    return soma"
   ]
  },
  {
   "cell_type": "code",
   "execution_count": 13,
   "metadata": {},
   "outputs": [
    {
     "name": "stdout",
     "output_type": "stream",
     "text": [
      "30.0\n",
      "[10.0, 20.0]\n"
     ]
    }
   ],
   "source": [
    "print(sum_column(CDs,1))\n",
    "print(list(map(lambda elementoDict: list(elementoDict.values())[1], CDs)))"
   ]
  },
  {
   "cell_type": "markdown",
   "metadata": {},
   "source": [
    "#### Parte 4 - Fazer Função de Média Aritmética\n",
    "---\n",
    "O valor de média é basicamente o valor retornado pela função *sum_column()* dividido pela variável *qtdCd*. Mas para trazer sofisticação ao código, vamos fazer uma função de calculo de média genérica e atribuir esses valores na função posteriormente."
   ]
  },
  {
   "cell_type": "code",
   "execution_count": 37,
   "metadata": {},
   "outputs": [],
   "source": [
    "def mean(sum:float | int, qtdElements:float | int )->float:\n",
    "    mean = sum/qtdElements\n",
    "    return float(mean)"
   ]
  },
  {
   "cell_type": "code",
   "execution_count": 15,
   "metadata": {},
   "outputs": [
    {
     "name": "stdout",
     "output_type": "stream",
     "text": [
      "15.0\n"
     ]
    }
   ],
   "source": [
    "print(mean(sum_column(CDs,1),qtdCD))"
   ]
  },
  {
   "cell_type": "markdown",
   "metadata": {},
   "source": [
    "##### Parte 4.1 - Revisitando o Código\n",
    "---\n",
    "Após a aula de *lambda* e funções de alta ordem, achei interessante aplicar esse paradigma de programação funcional nesse trecho da programação."
   ]
  },
  {
   "cell_type": "code",
   "execution_count": 16,
   "metadata": {},
   "outputs": [],
   "source": [
    "def describeList(Lista:list, Coluna:int)-> float: \n",
    "    # Estou resumindo todo for da função sum_columns com map e lambda, em uma linha, crio a lista com os elementos do dicionário contidos na coluna Value, ou qualquer outra coluna de escolha\n",
    "    valores = map(lambda elementoDict: list(elementoDict.values())[Coluna], Lista)\n",
    "    soma = sum(list(valores))\n",
    "    mean = soma/len(Lista)\n",
    "    return soma, mean"
   ]
  },
  {
   "cell_type": "code",
   "execution_count": 17,
   "metadata": {},
   "outputs": [
    {
     "name": "stdout",
     "output_type": "stream",
     "text": [
      "(30.0, 15.0)\n"
     ]
    }
   ],
   "source": [
    "print(describeList(CDs,1))"
   ]
  },
  {
   "cell_type": "markdown",
   "metadata": {},
   "source": [
    "Já ficou bem mais otimizado, utilizando map e lambda, mas utilizando Classe ficaria ainda melhor para chamada do usuário. Pois, só com a função o resultado vem em uma tupla, e é pouco legível."
   ]
  },
  {
   "cell_type": "code",
   "execution_count": 29,
   "metadata": {},
   "outputs": [],
   "source": [
    "class DescribeList:\n",
    "    def __init__(self, lista, coluna):\n",
    "        self.lista = lista\n",
    "        self.coluna = coluna\n",
    "        self.valores = list(map(lambda elementoDict: list(elementoDict.values())[self.coluna], self.lista))\n",
    "        self.soma = sum(self.valores)\n",
    "        self.mean = self.soma / len(self.lista)\n",
    "#def describe_list(lista: list, coluna: int):\n",
    "#    return DescribeList(lista, coluna)"
   ]
  },
  {
   "cell_type": "code",
   "execution_count": 32,
   "metadata": {},
   "outputs": [
    {
     "data": {
      "text/plain": [
       "[10.0, 20.0]"
      ]
     },
     "execution_count": 32,
     "metadata": {},
     "output_type": "execute_result"
    }
   ],
   "source": [
    "DescribeList(CDs,1).valores"
   ]
  },
  {
   "cell_type": "code",
   "execution_count": 33,
   "metadata": {},
   "outputs": [
    {
     "name": "stdout",
     "output_type": "stream",
     "text": [
      "Soma: 30.0\n",
      "Média: 15.0\n"
     ]
    }
   ],
   "source": [
    "print(\"Soma: {}\\nMédia: {}\".format(DescribeList(CDs,1).soma,DescribeList(CDs,1).mean))"
   ]
  },
  {
   "cell_type": "markdown",
   "metadata": {},
   "source": [
    "#### Parte 5 - Configurando Saída para o Usuário\n",
    "---\n",
    "Aqui todas as exigências já foram cumpridas, mas gostaria de finalizar com um print de saída para o usuário com todos os dados compilados. A ideia de saida é como tabela:\n",
    "| CD | Valor |\n",
    "|-----|-------|\n",
    "| CD1 | 20.00 |\n",
    "| CD2 | 30.00 |\n",
    "|**Total**| **50.00** |\n",
    "|**Média**| **25.00** |"
   ]
  },
  {
   "cell_type": "code",
   "execution_count": 35,
   "metadata": {},
   "outputs": [],
   "source": [
    "def print_ListDict_Table(Lista:list):\n",
    "    headers = Lista[0].keys()\n",
    "    row_format =\"{:<10} \" * len(headers)\n",
    "    print(row_format.format(*headers))\n",
    "    for item in Lista:\n",
    "        print(row_format.format(*item.values()))"
   ]
  },
  {
   "cell_type": "code",
   "execution_count": 38,
   "metadata": {},
   "outputs": [
    {
     "name": "stdout",
     "output_type": "stream",
     "text": [
      "name       value      \n",
      "CD1        10.0       \n",
      "CD2        20.0       \n",
      "\n",
      "Média por CD: 15.0\n",
      "Total Investido: 30.0\n"
     ]
    }
   ],
   "source": [
    "# ANTES DA PRIMEIRA REVISÃO\n",
    "totalInvestido = sum_column(CDs,1)\n",
    "mediaValorInvestido = mean(totalInvestido,qtdCD)\n",
    "\n",
    "print_ListDict_Table(CDs)\n",
    "print(\"\\nMédia por CD: {}\".format(mediaValorInvestido))\n",
    "print(\"Total Investido: {}\".format(totalInvestido))\n"
   ]
  },
  {
   "cell_type": "code",
   "execution_count": 39,
   "metadata": {},
   "outputs": [
    {
     "name": "stdout",
     "output_type": "stream",
     "text": [
      "name       value      \n",
      "CD1        10.0       \n",
      "CD2        20.0       \n",
      "\n",
      "Média por CD: 15.0\n",
      "Total Investido: 30.0\n"
     ]
    }
   ],
   "source": [
    "#Após adoção de Classe\n",
    "print_ListDict_Table(CDs)\n",
    "print(\"\\nMédia por CD: {}\\nTotal Investido: {}\".format(DescribeList(CDs,1).mean,DescribeList(CDs,1).soma)) # type: ignore"
   ]
  },
  {
   "cell_type": "markdown",
   "metadata": {},
   "source": [
    "### Finalização\n",
    "\n",
    "Como encerramento gostaria de deixar o código completo em um único node. Para ter a calculadora final."
   ]
  },
  {
   "cell_type": "code",
   "execution_count": 1,
   "metadata": {},
   "outputs": [
    {
     "name": "stdout",
     "output_type": "stream",
     "text": [
      "Insira os dados do CD 1\n",
      "Insira os dados do CD 2\n",
      "Insira os dados do CD 3\n",
      "name       value      \n",
      "CD1        10.0       \n",
      "CD2        20.0       \n",
      "CD3        30.0       \n",
      "\n",
      "Média por CD: 20.0\n",
      "Total Investido: 60.0\n"
     ]
    }
   ],
   "source": [
    "class DescribeList:\n",
    "    def __init__(self, lista, coluna):\n",
    "        self.lista = lista\n",
    "        self.coluna = coluna\n",
    "        self.valores = list(map(lambda elementoDict: list(elementoDict.values())[self.coluna], self.lista))\n",
    "        self.soma = sum(self.valores)\n",
    "        self.mean = self.soma / len(self.lista)\n",
    "\n",
    "def input_qtd_CD () -> int:\n",
    "    while True:\n",
    "        try:\n",
    "            qtdCd = int(input(\"Informe a quantidade de CDs da sua coleção:\"))\n",
    "            break\n",
    "        except ValueError:\n",
    "            print(\"Verifique se o valor fornecido é um número inteiro\")\n",
    "        except Exception as e:\n",
    "            print(e)\n",
    "    return qtdCd\n",
    "\n",
    "def input_valor_CD () -> float:\n",
    "    while True:\n",
    "        try:\n",
    "            valorCd = float(input(\"Informe o valor do CD:\"))\n",
    "            break\n",
    "        except ValueError:\n",
    "            print(\"Verifique se o valor fornecido é um número válido (ex: 10.00)\")\n",
    "        except Exception as e:\n",
    "            print(e)\n",
    "    return valorCd\n",
    "\n",
    "def input_nome_CD () -> str:\n",
    "    while True:\n",
    "        try:\n",
    "            nomeCd = str(input(\"Informe o nome do CD:\"))\n",
    "            break\n",
    "        except TypeError:\n",
    "            print(\"Verifique se o valor fornecido é um texto válido\")\n",
    "        except Exception as e:\n",
    "            print(e)\n",
    "    return nomeCd\n",
    "\n",
    "def print_ListDict_Table(Lista:list):\n",
    "    headers = Lista[0].keys()\n",
    "    row_format =\"{:<10} \" * len(headers)\n",
    "    print(row_format.format(*headers))\n",
    "    for item in Lista:\n",
    "        print(row_format.format(*item.values()))\n",
    "\n",
    "qtdCD = input_qtd_CD()\n",
    "#Lista que vai armazenar as informações dos CDs em dicionário\n",
    "CDs = []\n",
    "# Para cada CD dentro de qtdCD pegar nome e valor\n",
    "for CD in range(qtdCD):\n",
    "    #Informa ao usuário sobre qual CD ele vai fornecer as informações\n",
    "    print(\"Insira os dados do CD {}\".format(CD+1))\n",
    "    #Chama a função input_nome_CD() e atribui o retorno da função a variável nomeCD\n",
    "    nomeCD = input_nome_CD()\n",
    "    #Chama a função input_valor_CD() e atribui o retorno da função a variável valorCD\n",
    "    valorCD = input_valor_CD()\n",
    "    #Cria um dicionário com os dados de name e value\n",
    "    itemCD = dict(name = nomeCD, value = valorCD)\n",
    "    #Adiciona o dicionário como elemento na Lista\n",
    "    CDs.append(itemCD)\n",
    "\n",
    "print_ListDict_Table(CDs)\n",
    "print(\"\\nMédia por CD: {}\\nTotal Investido: {}\".format(DescribeList(CDs,1).mean,DescribeList(CDs,1).soma))"
   ]
  }
 ],
 "metadata": {
  "kernelspec": {
   "display_name": "Python 3",
   "language": "python",
   "name": "python3"
  },
  "language_info": {
   "codemirror_mode": {
    "name": "ipython",
    "version": 3
   },
   "file_extension": ".py",
   "mimetype": "text/x-python",
   "name": "python",
   "nbconvert_exporter": "python",
   "pygments_lexer": "ipython3",
   "version": "3.12.4"
  }
 },
 "nbformat": 4,
 "nbformat_minor": 2
}
